{
  "nbformat": 4,
  "nbformat_minor": 0,
  "metadata": {
    "colab": {
      "provenance": [],
      "gpuType": "V28",
      "include_colab_link": true
    },
    "kernelspec": {
      "name": "python3",
      "display_name": "Python 3"
    },
    "language_info": {
      "name": "python"
    },
    "accelerator": "TPU"
  },
  "cells": [
    {
      "cell_type": "markdown",
      "metadata": {
        "id": "view-in-github",
        "colab_type": "text"
      },
      "source": [
        "<a href=\"https://colab.research.google.com/github/honggi82/Software_application_lecture/blob/main/cnn_custom_data.ipynb\" target=\"_parent\"><img src=\"https://colab.research.google.com/assets/colab-badge.svg\" alt=\"Open In Colab\"/></a>"
      ]
    },
    {
      "cell_type": "markdown",
      "source": [
        "# 라이브러리 설치"
      ],
      "metadata": {
        "id": "N-NHTIe8a4_4"
      }
    },
    {
      "cell_type": "code",
      "source": [
        "!pip install tensorflow\n",
        "!pip install opencv-python"
      ],
      "metadata": {
        "colab": {
          "base_uri": "https://localhost:8080/"
        },
        "id": "ez5DX6kLP0EV",
        "outputId": "d4e0c41a-174f-49ea-c966-5b57f51799b1"
      },
      "execution_count": null,
      "outputs": [
        {
          "output_type": "stream",
          "name": "stdout",
          "text": [
            "Collecting tensorflow\n",
            "  Downloading tensorflow-2.19.0-cp311-cp311-manylinux_2_17_x86_64.manylinux2014_x86_64.whl.metadata (4.1 kB)\n",
            "Requirement already satisfied: absl-py>=1.0.0 in /usr/local/lib/python3.11/dist-packages (from tensorflow) (1.4.0)\n",
            "Collecting astunparse>=1.6.0 (from tensorflow)\n",
            "  Downloading astunparse-1.6.3-py2.py3-none-any.whl.metadata (4.4 kB)\n",
            "Collecting flatbuffers>=24.3.25 (from tensorflow)\n",
            "  Downloading flatbuffers-25.2.10-py2.py3-none-any.whl.metadata (875 bytes)\n",
            "Requirement already satisfied: gast!=0.5.0,!=0.5.1,!=0.5.2,>=0.2.1 in /usr/local/lib/python3.11/dist-packages (from tensorflow) (0.6.0)\n",
            "Collecting google-pasta>=0.1.1 (from tensorflow)\n",
            "  Downloading google_pasta-0.2.0-py3-none-any.whl.metadata (814 bytes)\n",
            "Collecting libclang>=13.0.0 (from tensorflow)\n",
            "  Downloading libclang-18.1.1-py2.py3-none-manylinux2010_x86_64.whl.metadata (5.2 kB)\n",
            "Requirement already satisfied: opt-einsum>=2.3.2 in /usr/local/lib/python3.11/dist-packages (from tensorflow) (3.4.0)\n",
            "Requirement already satisfied: packaging in /usr/local/lib/python3.11/dist-packages (from tensorflow) (25.0)\n",
            "Requirement already satisfied: protobuf!=4.21.0,!=4.21.1,!=4.21.2,!=4.21.3,!=4.21.4,!=4.21.5,<6.0.0dev,>=3.20.3 in /usr/local/lib/python3.11/dist-packages (from tensorflow) (5.29.4)\n",
            "Requirement already satisfied: requests<3,>=2.21.0 in /usr/local/lib/python3.11/dist-packages (from tensorflow) (2.32.3)\n",
            "Requirement already satisfied: setuptools in /usr/local/lib/python3.11/dist-packages (from tensorflow) (75.2.0)\n",
            "Requirement already satisfied: six>=1.12.0 in /usr/local/lib/python3.11/dist-packages (from tensorflow) (1.17.0)\n",
            "Requirement already satisfied: termcolor>=1.1.0 in /usr/local/lib/python3.11/dist-packages (from tensorflow) (3.1.0)\n",
            "Requirement already satisfied: typing-extensions>=3.6.6 in /usr/local/lib/python3.11/dist-packages (from tensorflow) (4.13.2)\n",
            "Requirement already satisfied: wrapt>=1.11.0 in /usr/local/lib/python3.11/dist-packages (from tensorflow) (1.17.2)\n",
            "Requirement already satisfied: grpcio<2.0,>=1.24.3 in /usr/local/lib/python3.11/dist-packages (from tensorflow) (1.71.0)\n",
            "Collecting tensorboard~=2.19.0 (from tensorflow)\n",
            "  Downloading tensorboard-2.19.0-py3-none-any.whl.metadata (1.8 kB)\n",
            "Requirement already satisfied: keras>=3.5.0 in /usr/local/lib/python3.11/dist-packages (from tensorflow) (3.8.0)\n",
            "Requirement already satisfied: numpy<2.2.0,>=1.26.0 in /usr/local/lib/python3.11/dist-packages (from tensorflow) (2.0.2)\n",
            "Requirement already satisfied: h5py>=3.11.0 in /usr/local/lib/python3.11/dist-packages (from tensorflow) (3.13.0)\n",
            "Requirement already satisfied: ml-dtypes<1.0.0,>=0.5.1 in /usr/local/lib/python3.11/dist-packages (from tensorflow) (0.5.1)\n",
            "Collecting tensorflow-io-gcs-filesystem>=0.23.1 (from tensorflow)\n",
            "  Downloading tensorflow_io_gcs_filesystem-0.37.1-cp311-cp311-manylinux_2_17_x86_64.manylinux2014_x86_64.whl.metadata (14 kB)\n",
            "Collecting wheel<1.0,>=0.23.0 (from astunparse>=1.6.0->tensorflow)\n",
            "  Downloading wheel-0.45.1-py3-none-any.whl.metadata (2.3 kB)\n",
            "Requirement already satisfied: rich in /usr/local/lib/python3.11/dist-packages (from keras>=3.5.0->tensorflow) (14.0.0)\n",
            "Requirement already satisfied: namex in /usr/local/lib/python3.11/dist-packages (from keras>=3.5.0->tensorflow) (0.0.9)\n",
            "Requirement already satisfied: optree in /usr/local/lib/python3.11/dist-packages (from keras>=3.5.0->tensorflow) (0.15.0)\n",
            "Requirement already satisfied: charset-normalizer<4,>=2 in /usr/local/lib/python3.11/dist-packages (from requests<3,>=2.21.0->tensorflow) (3.4.1)\n",
            "Requirement already satisfied: idna<4,>=2.5 in /usr/local/lib/python3.11/dist-packages (from requests<3,>=2.21.0->tensorflow) (3.10)\n",
            "Requirement already satisfied: urllib3<3,>=1.21.1 in /usr/local/lib/python3.11/dist-packages (from requests<3,>=2.21.0->tensorflow) (2.4.0)\n",
            "Requirement already satisfied: certifi>=2017.4.17 in /usr/local/lib/python3.11/dist-packages (from requests<3,>=2.21.0->tensorflow) (2025.4.26)\n",
            "Requirement already satisfied: markdown>=2.6.8 in /usr/lib/python3/dist-packages (from tensorboard~=2.19.0->tensorflow) (3.3.6)\n",
            "Collecting tensorboard-data-server<0.8.0,>=0.7.0 (from tensorboard~=2.19.0->tensorflow)\n",
            "  Downloading tensorboard_data_server-0.7.2-py3-none-manylinux_2_31_x86_64.whl.metadata (1.1 kB)\n",
            "Collecting werkzeug>=1.0.1 (from tensorboard~=2.19.0->tensorflow)\n",
            "  Downloading werkzeug-3.1.3-py3-none-any.whl.metadata (3.7 kB)\n",
            "Requirement already satisfied: MarkupSafe>=2.1.1 in /usr/local/lib/python3.11/dist-packages (from werkzeug>=1.0.1->tensorboard~=2.19.0->tensorflow) (3.0.2)\n",
            "Requirement already satisfied: markdown-it-py>=2.2.0 in /usr/local/lib/python3.11/dist-packages (from rich->keras>=3.5.0->tensorflow) (3.0.0)\n",
            "Requirement already satisfied: pygments<3.0.0,>=2.13.0 in /usr/local/lib/python3.11/dist-packages (from rich->keras>=3.5.0->tensorflow) (2.19.1)\n",
            "Requirement already satisfied: mdurl~=0.1 in /usr/local/lib/python3.11/dist-packages (from markdown-it-py>=2.2.0->rich->keras>=3.5.0->tensorflow) (0.1.2)\n",
            "Downloading tensorflow-2.19.0-cp311-cp311-manylinux_2_17_x86_64.manylinux2014_x86_64.whl (644.9 MB)\n",
            "\u001b[2K   \u001b[90m━━━━━━━━━━━━━━━━━━━━━━━━━━━━━━━━━━━━━━━\u001b[0m \u001b[32m644.9/644.9 MB\u001b[0m \u001b[31m576.2 kB/s\u001b[0m eta \u001b[36m0:00:00\u001b[0m\n",
            "\u001b[?25hDownloading astunparse-1.6.3-py2.py3-none-any.whl (12 kB)\n",
            "Downloading flatbuffers-25.2.10-py2.py3-none-any.whl (30 kB)\n",
            "Downloading google_pasta-0.2.0-py3-none-any.whl (57 kB)\n",
            "\u001b[2K   \u001b[90m━━━━━━━━━━━━━━━━━━━━━━━━━━━━━━━━━━━━━━━━\u001b[0m \u001b[32m57.5/57.5 kB\u001b[0m \u001b[31m2.3 MB/s\u001b[0m eta \u001b[36m0:00:00\u001b[0m\n",
            "\u001b[?25hDownloading libclang-18.1.1-py2.py3-none-manylinux2010_x86_64.whl (24.5 MB)\n",
            "\u001b[2K   \u001b[90m━━━━━━━━━━━━━━━━━━━━━━━━━━━━━━━━━━━━━━━━\u001b[0m \u001b[32m24.5/24.5 MB\u001b[0m \u001b[31m51.2 MB/s\u001b[0m eta \u001b[36m0:00:00\u001b[0m\n",
            "\u001b[?25hDownloading tensorboard-2.19.0-py3-none-any.whl (5.5 MB)\n",
            "\u001b[2K   \u001b[90m━━━━━━━━━━━━━━━━━━━━━━━━━━━━━━━━━━━━━━━━\u001b[0m \u001b[32m5.5/5.5 MB\u001b[0m \u001b[31m60.6 MB/s\u001b[0m eta \u001b[36m0:00:00\u001b[0m\n",
            "\u001b[?25hDownloading tensorflow_io_gcs_filesystem-0.37.1-cp311-cp311-manylinux_2_17_x86_64.manylinux2014_x86_64.whl (5.1 MB)\n",
            "\u001b[2K   \u001b[90m━━━━━━━━━━━━━━━━━━━━━━━━━━━━━━━━━━━━━━━━\u001b[0m \u001b[32m5.1/5.1 MB\u001b[0m \u001b[31m58.8 MB/s\u001b[0m eta \u001b[36m0:00:00\u001b[0m\n",
            "\u001b[?25hDownloading tensorboard_data_server-0.7.2-py3-none-manylinux_2_31_x86_64.whl (6.6 MB)\n",
            "\u001b[2K   \u001b[90m━━━━━━━━━━━━━━━━━━━━━━━━━━━━━━━━━━━━━━━━\u001b[0m \u001b[32m6.6/6.6 MB\u001b[0m \u001b[31m64.6 MB/s\u001b[0m eta \u001b[36m0:00:00\u001b[0m\n",
            "\u001b[?25hDownloading werkzeug-3.1.3-py3-none-any.whl (224 kB)\n",
            "\u001b[2K   \u001b[90m━━━━━━━━━━━━━━━━━━━━━━━━━━━━━━━━━━━━━━━━\u001b[0m \u001b[32m224.5/224.5 kB\u001b[0m \u001b[31m13.6 MB/s\u001b[0m eta \u001b[36m0:00:00\u001b[0m\n",
            "\u001b[?25hDownloading wheel-0.45.1-py3-none-any.whl (72 kB)\n",
            "\u001b[2K   \u001b[90m━━━━━━━━━━━━━━━━━━━━━━━━━━━━━━━━━━━━━━━━\u001b[0m \u001b[32m72.5/72.5 kB\u001b[0m \u001b[31m5.0 MB/s\u001b[0m eta \u001b[36m0:00:00\u001b[0m\n",
            "\u001b[?25hInstalling collected packages: libclang, flatbuffers, wheel, werkzeug, tensorflow-io-gcs-filesystem, tensorboard-data-server, google-pasta, tensorboard, astunparse, tensorflow\n",
            "Successfully installed astunparse-1.6.3 flatbuffers-25.2.10 google-pasta-0.2.0 libclang-18.1.1 tensorboard-2.19.0 tensorboard-data-server-0.7.2 tensorflow-2.19.0 tensorflow-io-gcs-filesystem-0.37.1 werkzeug-3.1.3 wheel-0.45.1\n",
            "Collecting opencv-python\n",
            "  Downloading opencv_python-4.11.0.86-cp37-abi3-manylinux_2_17_x86_64.manylinux2014_x86_64.whl.metadata (20 kB)\n",
            "Requirement already satisfied: numpy>=1.21.2 in /usr/local/lib/python3.11/dist-packages (from opencv-python) (2.0.2)\n",
            "Downloading opencv_python-4.11.0.86-cp37-abi3-manylinux_2_17_x86_64.manylinux2014_x86_64.whl (63.0 MB)\n",
            "\u001b[2K   \u001b[90m━━━━━━━━━━━━━━━━━━━━━━━━━━━━━━━━━━━━━━━━\u001b[0m \u001b[32m63.0/63.0 MB\u001b[0m \u001b[31m6.9 MB/s\u001b[0m eta \u001b[36m0:00:00\u001b[0m\n",
            "\u001b[?25hInstalling collected packages: opencv-python\n",
            "Successfully installed opencv-python-4.11.0.86\n"
          ]
        }
      ]
    },
    {
      "cell_type": "markdown",
      "source": [
        "# 구글 드라이브 마운트"
      ],
      "metadata": {
        "id": "Mwzs7FDX0YMI"
      }
    },
    {
      "cell_type": "code",
      "source": [
        "from google.colab import drive\n",
        "drive.mount('/content/gdrive')"
      ],
      "metadata": {
        "colab": {
          "base_uri": "https://localhost:8080/"
        },
        "id": "3KaICLGO0T96",
        "outputId": "db4caa57-ae61-4658-8656-7a902d7742e9"
      },
      "execution_count": null,
      "outputs": [
        {
          "output_type": "stream",
          "name": "stdout",
          "text": [
            "Mounted at /content/gdrive\n"
          ]
        }
      ]
    },
    {
      "cell_type": "markdown",
      "source": [
        "# 라이브러리 가져오기"
      ],
      "metadata": {
        "id": "rTjm2eY8TCCM"
      }
    },
    {
      "cell_type": "code",
      "source": [
        "from tensorflow.keras.utils import to_categorical\n",
        "from tensorflow.keras.models import Sequential\n",
        "from tensorflow.keras.layers import Conv2D, MaxPooling2D, Flatten, Dense\n",
        "import cv2\n",
        "from google.colab.patches import cv2_imshow\n",
        "import matplotlib.pyplot as plt\n",
        "import numpy as np"
      ],
      "metadata": {
        "id": "UhOqpYmyTDwL"
      },
      "execution_count": null,
      "outputs": []
    },
    {
      "cell_type": "markdown",
      "source": [
        "# Training 데이터셋 불러오기\n",
        "\"http://content/gdrive/MyDrive/software/\"는 데이터셋이 있는 폴더 위치로 다른 경우 변경해야 함.\n",
        "각 사진 파일은 \"face숫자_숫자.jpg\"란 이름으로 저장되어 있으며, 앞의 숫자는 class를 뒤의 숫자는 몇 번째 데이터인지를 나타내는 숫자임.\n",
        "아래 코드는 class가 0, 1, 2가 있으며, 데이터가 100개 있는 경우에 대한 코드임."
      ],
      "metadata": {
        "id": "VweaNS5NTGBi"
      }
    },
    {
      "cell_type": "code",
      "source": [
        "train_X=[]; test_X=[]; train_Y=[]; test_Y=[];\n",
        "\n",
        "for i in range(0,100): # 데이터셋 100개를 training 용으로 읽어오는 코드\n",
        "    img=cv2.imread(\"/content/gdrive/MyDrive/software/face0_\"+str(i)+\".jpg\")\n",
        "    train_X.append(cv2.resize(img,(50,50))) # 사진 크기를 50*50으로 변경해주는 코드\n",
        "    train_Y.append(0)\n",
        "    img=cv2.imread(\"/content/gdrive/MyDrive/software/face1_\"+str(i)+\".jpg\")\n",
        "    train_X.append(cv2.resize(img,(50,50)))\n",
        "    train_Y.append(1)\n",
        "    img=cv2.imread(\"/content/gdrive/MyDrive/software/face2_\"+str(i)+\".jpg\")\n",
        "    train_X.append(cv2.resize(img,(50,50)))\n",
        "    train_Y.append(2)"
      ],
      "metadata": {
        "id": "4UHGZTaOTL9C"
      },
      "execution_count": null,
      "outputs": []
    },
    {
      "cell_type": "markdown",
      "source": [
        "# 데이터를 numpy array로 변경"
      ],
      "metadata": {
        "id": "eXmVjxmBUIzb"
      }
    },
    {
      "cell_type": "code",
      "source": [
        "train_X=np.array(train_X)\n",
        "train_Y=np.array(train_Y)"
      ],
      "metadata": {
        "id": "_17Jf-p4UM6b"
      },
      "execution_count": null,
      "outputs": []
    },
    {
      "cell_type": "markdown",
      "source": [
        "# 샘플 테이터 그려보기"
      ],
      "metadata": {
        "id": "ZrHrdNfTURPD"
      }
    },
    {
      "cell_type": "code",
      "source": [
        "cv2_imshow(train_X[0]); cv2_imshow(train_X[1]); cv2_imshow(train_X[2]);\n",
        "print(train_Y[0]); print(train_Y[1]); print(train_Y[2]);"
      ],
      "metadata": {
        "colab": {
          "base_uri": "https://localhost:8080/",
          "height": 221
        },
        "id": "n87a_TjfUaWr",
        "outputId": "ff2f59b2-2cd3-4bd0-f222-d1cfd51dbc4d"
      },
      "execution_count": null,
      "outputs": [
        {
          "output_type": "display_data",
          "data": {
            "text/plain": [
              "<PIL.Image.Image image mode=RGB size=50x50>"
            ],
            "image/png": "[encoded data removed]",
            "image/jpeg": "[encoded data removed]"
          },
          "metadata": {}
        },
        {
          "output_type": "display_data",
          "data": {
            "text/plain": [
              "<PIL.Image.Image image mode=RGB size=50x50>"
            ],
            "image/png": "[encoded data removed]",
            "image/jpeg": "[encoded data removed]"
          },
          "metadata": {}
        },
        {
          "output_type": "display_data",
          "data": {
            "text/plain": [
              "<PIL.Image.Image image mode=RGB size=50x50>"
            ],
            "image/png": "[encoded data removed]",
            "image/jpeg": "[encoded data removed]"
          },
          "metadata": {}
        },
        {
          "output_type": "stream",
          "name": "stdout",
          "text": [
            "0\n",
            "1\n",
            "2\n"
          ]
        }
      ]
    },
    {
      "cell_type": "markdown",
      "source": [
        "# Test 데이터셋 불러오기"
      ],
      "metadata": {
        "id": "-XHBVDuZ4t62"
      }
    },
    {
      "cell_type": "code",
      "source": [
        "for i in range(100,200):\n",
        "    img=cv2.imread(\"/content/gdrive/MyDrive/software/face0_\"+str(i)+\".jpg\")\n",
        "    test_X.append(cv2.resize(img,(50,50)))\n",
        "    test_Y.append(0)\n",
        "    img=cv2.imread(\"/content/gdrive/MyDrive/software/face1_\"+str(i)+\".jpg\")\n",
        "    test_X.append(cv2.resize(img,(50,50)))\n",
        "    test_Y.append(1)\n",
        "    img=cv2.imread(\"/content/gdrive/MyDrive/software/face2_\"+str(i)+\".jpg\")\n",
        "    test_X.append(cv2.resize(img,(50,50)))\n",
        "    test_Y.append(2)"
      ],
      "metadata": {
        "id": "uxnMW1-T4zXM"
      },
      "execution_count": null,
      "outputs": []
    },
    {
      "cell_type": "markdown",
      "source": [
        "# 데이터를 numpy array로 변경"
      ],
      "metadata": {
        "id": "4QJ3yCZM43kt"
      }
    },
    {
      "cell_type": "code",
      "source": [
        "test_X=np.array(test_X)\n",
        "test_Y=np.array(test_Y)"
      ],
      "metadata": {
        "id": "YRYBVCwZ49b9"
      },
      "execution_count": null,
      "outputs": []
    },
    {
      "cell_type": "markdown",
      "source": [
        "# 샘플 테이터 그려보기"
      ],
      "metadata": {
        "id": "baNk8Hfm5B1G"
      }
    },
    {
      "cell_type": "code",
      "source": [
        "cv2_imshow(test_X[0]); cv2_imshow(test_X[1]); cv2_imshow(test_X[2]);\n",
        "print(test_Y[0]); print(test_Y[1]); print(test_Y[2]);"
      ],
      "metadata": {
        "colab": {
          "base_uri": "https://localhost:8080/",
          "height": 221
        },
        "id": "NZbFxXMZ5DIV",
        "outputId": "85091c82-0082-4cdc-b8c9-f71072f45899"
      },
      "execution_count": null,
      "outputs": [
        {
          "output_type": "display_data",
          "data": {
            "text/plain": [
              "<PIL.Image.Image image mode=RGB size=50x50>"
            ],
            "image/png": "[encoded data removed]",
            "image/jpeg": "[encoded data removed]"
          },
          "metadata": {}
        },
        {
          "output_type": "display_data",
          "data": {
            "text/plain": [
              "<PIL.Image.Image image mode=RGB size=50x50>"
            ],
            "image/png": "[encoded data removed]",
            "image/jpeg": "[encoded data removed]"
          },
          "metadata": {}
        },
        {
          "output_type": "display_data",
          "data": {
            "text/plain": [
              "<PIL.Image.Image image mode=RGB size=50x50>"
            ],
            "image/png": "[encoded data removed]",
            "image/jpeg": "[encoded data removed]"
          },
          "metadata": {}
        },
        {
          "output_type": "stream",
          "name": "stdout",
          "text": [
            "0\n",
            "1\n",
            "2\n"
          ]
        }
      ]
    },
    {
      "cell_type": "markdown",
      "source": [
        "# 데이터 정규화"
      ],
      "metadata": {
        "id": "0N4poMXj5JKP"
      }
    },
    {
      "cell_type": "code",
      "source": [
        "train_X = train_X.astype('float32')/255.0\n",
        "test_X = test_X.astype('float32')/255.0"
      ],
      "metadata": {
        "id": "n1gdXjmh5QII"
      },
      "execution_count": null,
      "outputs": []
    },
    {
      "cell_type": "markdown",
      "source": [
        "# One-Hot Encoding"
      ],
      "metadata": {
        "id": "NLMB3D105Peu"
      }
    },
    {
      "cell_type": "code",
      "source": [
        "train_Y = to_categorical(train_Y)\n",
        "test_Y = to_categorical(test_Y)"
      ],
      "metadata": {
        "id": "NDIpQEOv5WGO"
      },
      "execution_count": null,
      "outputs": []
    },
    {
      "cell_type": "markdown",
      "source": [
        "# CNN 모델 생성"
      ],
      "metadata": {
        "id": "vO_LkJvK5Z-v"
      }
    },
    {
      "cell_type": "code",
      "source": [
        "model = Sequential([\n",
        "    Conv2D(32, (3,3), padding='same', strides=(1,1), activation='relu', input_shape=(50,50,3)),\n",
        "    MaxPooling2D(pool_size=(2,2)),\n",
        "    Conv2D(64, (3,3), padding='same', strides=(1,1), activation='relu'),\n",
        "    MaxPooling2D(pool_size=(2,2)),\n",
        "    Flatten(),\n",
        "    Dense(3, activation='softmax')])\n",
        "model.compile(loss='categorical_crossentropy', optimizer='Adam', metrics=['accuracy'])\n",
        "model.summary()"
      ],
      "metadata": {
        "colab": {
          "base_uri": "https://localhost:8080/",
          "height": 326
        },
        "id": "HT3_ogrt5cVu",
        "outputId": "c47a8504-947d-47d0-cf82-86d60c94bf66"
      },
      "execution_count": null,
      "outputs": [
        {
          "output_type": "display_data",
          "data": {
            "text/plain": [
              "\u001b[1mModel: \"sequential\"\u001b[0m\n"
            ],
            "text/html": [
              "<pre style=\"white-space:pre;overflow-x:auto;line-height:normal;font-family:Menlo,'DejaVu Sans Mono',consolas,'Courier New',monospace\"><span style=\"font-weight: bold\">Model: \"sequential\"</span>\n",
              "</pre>\n"
            ]
          },
          "metadata": {}
        },
        {
          "output_type": "display_data",
          "data": {
            "text/plain": [
              "┏━━━━━━━━━━━━━━━━━━━━━━━━━━━━━━━━━┳━━━━━━━━━━━━━━━━━━━━━━━━┳━━━━━━━━━━━━━━━┓\n",
              "┃\u001b[1m \u001b[0m\u001b[1mLayer (type)                   \u001b[0m\u001b[1m \u001b[0m┃\u001b[1m \u001b[0m\u001b[1mOutput Shape          \u001b[0m\u001b[1m \u001b[0m┃\u001b[1m \u001b[0m\u001b[1m      Param #\u001b[0m\u001b[1m \u001b[0m┃\n",
              "┡━━━━━━━━━━━━━━━━━━━━━━━━━━━━━━━━━╇━━━━━━━━━━━━━━━━━━━━━━━━╇━━━━━━━━━━━━━━━┩\n",
              "│ conv2d_1 (\u001b[38;5;33mConv2D\u001b[0m)               │ (\u001b[38;5;45mNone\u001b[0m, \u001b[38;5;34m50\u001b[0m, \u001b[38;5;34m50\u001b[0m, \u001b[38;5;34m32\u001b[0m)     │           \u001b[38;5;34m896\u001b[0m │\n",
              "├─────────────────────────────────┼────────────────────────┼───────────────┤\n",
              "│ max_pooling2d (\u001b[38;5;33mMaxPooling2D\u001b[0m)    │ (\u001b[38;5;45mNone\u001b[0m, \u001b[38;5;34m25\u001b[0m, \u001b[38;5;34m25\u001b[0m, \u001b[38;5;34m32\u001b[0m)     │             \u001b[38;5;34m0\u001b[0m │\n",
              "├─────────────────────────────────┼────────────────────────┼───────────────┤\n",
              "│ conv2d_2 (\u001b[38;5;33mConv2D\u001b[0m)               │ (\u001b[38;5;45mNone\u001b[0m, \u001b[38;5;34m25\u001b[0m, \u001b[38;5;34m25\u001b[0m, \u001b[38;5;34m64\u001b[0m)     │        \u001b[38;5;34m18,496\u001b[0m │\n",
              "├─────────────────────────────────┼────────────────────────┼───────────────┤\n",
              "│ max_pooling2d_1 (\u001b[38;5;33mMaxPooling2D\u001b[0m)  │ (\u001b[38;5;45mNone\u001b[0m, \u001b[38;5;34m12\u001b[0m, \u001b[38;5;34m12\u001b[0m, \u001b[38;5;34m64\u001b[0m)     │             \u001b[38;5;34m0\u001b[0m │\n",
              "├─────────────────────────────────┼────────────────────────┼───────────────┤\n",
              "│ flatten (\u001b[38;5;33mFlatten\u001b[0m)               │ (\u001b[38;5;45mNone\u001b[0m, \u001b[38;5;34m9216\u001b[0m)           │             \u001b[38;5;34m0\u001b[0m │\n",
              "├─────────────────────────────────┼────────────────────────┼───────────────┤\n",
              "│ dense (\u001b[38;5;33mDense\u001b[0m)                   │ (\u001b[38;5;45mNone\u001b[0m, \u001b[38;5;34m3\u001b[0m)              │        \u001b[38;5;34m27,651\u001b[0m │\n",
              "└─────────────────────────────────┴────────────────────────┴───────────────┘\n"
            ],
            "text/html": [
              "<pre style=\"white-space:pre;overflow-x:auto;line-height:normal;font-family:Menlo,'DejaVu Sans Mono',consolas,'Courier New',monospace\">┏━━━━━━━━━━━━━━━━━━━━━━━━━━━━━━━━━┳━━━━━━━━━━━━━━━━━━━━━━━━┳━━━━━━━━━━━━━━━┓\n",
              "┃<span style=\"font-weight: bold\"> Layer (type)                    </span>┃<span style=\"font-weight: bold\"> Output Shape           </span>┃<span style=\"font-weight: bold\">       Param # </span>┃\n",
              "┡━━━━━━━━━━━━━━━━━━━━━━━━━━━━━━━━━╇━━━━━━━━━━━━━━━━━━━━━━━━╇━━━━━━━━━━━━━━━┩\n",
              "│ conv2d_1 (<span style=\"color: #0087ff; text-decoration-color: #0087ff\">Conv2D</span>)               │ (<span style=\"color: #00d7ff; text-decoration-color: #00d7ff\">None</span>, <span style=\"color: #00af00; text-decoration-color: #00af00\">50</span>, <span style=\"color: #00af00; text-decoration-color: #00af00\">50</span>, <span style=\"color: #00af00; text-decoration-color: #00af00\">32</span>)     │           <span style=\"color: #00af00; text-decoration-color: #00af00\">896</span> │\n",
              "├─────────────────────────────────┼────────────────────────┼───────────────┤\n",
              "│ max_pooling2d (<span style=\"color: #0087ff; text-decoration-color: #0087ff\">MaxPooling2D</span>)    │ (<span style=\"color: #00d7ff; text-decoration-color: #00d7ff\">None</span>, <span style=\"color: #00af00; text-decoration-color: #00af00\">25</span>, <span style=\"color: #00af00; text-decoration-color: #00af00\">25</span>, <span style=\"color: #00af00; text-decoration-color: #00af00\">32</span>)     │             <span style=\"color: #00af00; text-decoration-color: #00af00\">0</span> │\n",
              "├─────────────────────────────────┼────────────────────────┼───────────────┤\n",
              "│ conv2d_2 (<span style=\"color: #0087ff; text-decoration-color: #0087ff\">Conv2D</span>)               │ (<span style=\"color: #00d7ff; text-decoration-color: #00d7ff\">None</span>, <span style=\"color: #00af00; text-decoration-color: #00af00\">25</span>, <span style=\"color: #00af00; text-decoration-color: #00af00\">25</span>, <span style=\"color: #00af00; text-decoration-color: #00af00\">64</span>)     │        <span style=\"color: #00af00; text-decoration-color: #00af00\">18,496</span> │\n",
              "├─────────────────────────────────┼────────────────────────┼───────────────┤\n",
              "│ max_pooling2d_1 (<span style=\"color: #0087ff; text-decoration-color: #0087ff\">MaxPooling2D</span>)  │ (<span style=\"color: #00d7ff; text-decoration-color: #00d7ff\">None</span>, <span style=\"color: #00af00; text-decoration-color: #00af00\">12</span>, <span style=\"color: #00af00; text-decoration-color: #00af00\">12</span>, <span style=\"color: #00af00; text-decoration-color: #00af00\">64</span>)     │             <span style=\"color: #00af00; text-decoration-color: #00af00\">0</span> │\n",
              "├─────────────────────────────────┼────────────────────────┼───────────────┤\n",
              "│ flatten (<span style=\"color: #0087ff; text-decoration-color: #0087ff\">Flatten</span>)               │ (<span style=\"color: #00d7ff; text-decoration-color: #00d7ff\">None</span>, <span style=\"color: #00af00; text-decoration-color: #00af00\">9216</span>)           │             <span style=\"color: #00af00; text-decoration-color: #00af00\">0</span> │\n",
              "├─────────────────────────────────┼────────────────────────┼───────────────┤\n",
              "│ dense (<span style=\"color: #0087ff; text-decoration-color: #0087ff\">Dense</span>)                   │ (<span style=\"color: #00d7ff; text-decoration-color: #00d7ff\">None</span>, <span style=\"color: #00af00; text-decoration-color: #00af00\">3</span>)              │        <span style=\"color: #00af00; text-decoration-color: #00af00\">27,651</span> │\n",
              "└─────────────────────────────────┴────────────────────────┴───────────────┘\n",
              "</pre>\n"
            ]
          },
          "metadata": {}
        },
        {
          "output_type": "display_data",
          "data": {
            "text/plain": [
              "\u001b[1m Total params: \u001b[0m\u001b[38;5;34m47,043\u001b[0m (183.76 KB)\n"
            ],
            "text/html": [
              "<pre style=\"white-space:pre;overflow-x:auto;line-height:normal;font-family:Menlo,'DejaVu Sans Mono',consolas,'Courier New',monospace\"><span style=\"font-weight: bold\"> Total params: </span><span style=\"color: #00af00; text-decoration-color: #00af00\">47,043</span> (183.76 KB)\n",
              "</pre>\n"
            ]
          },
          "metadata": {}
        },
        {
          "output_type": "display_data",
          "data": {
            "text/plain": [
              "\u001b[1m Trainable params: \u001b[0m\u001b[38;5;34m47,043\u001b[0m (183.76 KB)\n"
            ],
            "text/html": [
              "<pre style=\"white-space:pre;overflow-x:auto;line-height:normal;font-family:Menlo,'DejaVu Sans Mono',consolas,'Courier New',monospace\"><span style=\"font-weight: bold\"> Trainable params: </span><span style=\"color: #00af00; text-decoration-color: #00af00\">47,043</span> (183.76 KB)\n",
              "</pre>\n"
            ]
          },
          "metadata": {}
        },
        {
          "output_type": "display_data",
          "data": {
            "text/plain": [
              "\u001b[1m Non-trainable params: \u001b[0m\u001b[38;5;34m0\u001b[0m (0.00 B)\n"
            ],
            "text/html": [
              "<pre style=\"white-space:pre;overflow-x:auto;line-height:normal;font-family:Menlo,'DejaVu Sans Mono',consolas,'Courier New',monospace\"><span style=\"font-weight: bold\"> Non-trainable params: </span><span style=\"color: #00af00; text-decoration-color: #00af00\">0</span> (0.00 B)\n",
              "</pre>\n"
            ]
          },
          "metadata": {}
        }
      ]
    },
    {
      "cell_type": "markdown",
      "source": [
        "# Training"
      ],
      "metadata": {
        "id": "XjsUn0th5x-5"
      }
    },
    {
      "cell_type": "code",
      "source": [
        "history=model.fit(train_X, train_Y, batch_size=8, epochs=5)"
      ],
      "metadata": {
        "colab": {
          "base_uri": "https://localhost:8080/"
        },
        "id": "yTWM0sBJ5zN-",
        "outputId": "be6a004b-21e6-417e-cd32-153bb2a58d57"
      },
      "execution_count": null,
      "outputs": [
        {
          "output_type": "stream",
          "name": "stdout",
          "text": [
            "Epoch 1/5\n",
            "\u001b[1m38/38\u001b[0m \u001b[32m━━━━━━━━━━━━━━━━━━━━\u001b[0m\u001b[37m\u001b[0m \u001b[1m2s\u001b[0m 25ms/step - accuracy: 0.8407 - loss: 0.4692\n",
            "Epoch 2/5\n",
            "\u001b[1m38/38\u001b[0m \u001b[32m━━━━━━━━━━━━━━━━━━━━\u001b[0m\u001b[37m\u001b[0m \u001b[1m1s\u001b[0m 20ms/step - accuracy: 1.0000 - loss: 1.3034e-04\n",
            "Epoch 3/5\n",
            "\u001b[1m38/38\u001b[0m \u001b[32m━━━━━━━━━━━━━━━━━━━━\u001b[0m\u001b[37m\u001b[0m \u001b[1m1s\u001b[0m 19ms/step - accuracy: 1.0000 - loss: 2.1378e-05\n",
            "Epoch 4/5\n",
            "\u001b[1m38/38\u001b[0m \u001b[32m━━━━━━━━━━━━━━━━━━━━\u001b[0m\u001b[37m\u001b[0m \u001b[1m1s\u001b[0m 19ms/step - accuracy: 1.0000 - loss: 1.8955e-05\n",
            "Epoch 5/5\n",
            "\u001b[1m38/38\u001b[0m \u001b[32m━━━━━━━━━━━━━━━━━━━━\u001b[0m\u001b[37m\u001b[0m \u001b[1m1s\u001b[0m 20ms/step - accuracy: 1.0000 - loss: 1.6273e-05\n"
          ]
        }
      ]
    },
    {
      "cell_type": "markdown",
      "source": [
        "# Test"
      ],
      "metadata": {
        "id": "sg0q06CA59ys"
      }
    },
    {
      "cell_type": "code",
      "source": [
        "_, accuracy = model.evaluate(test_X, test_Y)\n",
        "print('Accuracy: ', accuracy)"
      ],
      "metadata": {
        "colab": {
          "base_uri": "https://localhost:8080/"
        },
        "id": "Bi5i1iQR6EgP",
        "outputId": "2caecd38-6840-4fbb-b363-623beebe969b"
      },
      "execution_count": null,
      "outputs": [
        {
          "output_type": "stream",
          "name": "stdout",
          "text": [
            "\u001b[1m10/10\u001b[0m \u001b[32m━━━━━━━━━━━━━━━━━━━━\u001b[0m\u001b[37m\u001b[0m \u001b[1m1s\u001b[0m 54ms/step - accuracy: 1.0000 - loss: 4.0884e-05\n",
            "Accuracy:  1.0\n"
          ]
        }
      ]
    },
    {
      "cell_type": "markdown",
      "source": [
        "# Loss 그리기"
      ],
      "metadata": {
        "id": "YhQBT_mw6Y8r"
      }
    },
    {
      "cell_type": "code",
      "source": [
        "plt.plot(history.history['loss'], label='loss')"
      ],
      "metadata": {
        "colab": {
          "base_uri": "https://localhost:8080/",
          "height": 448
        },
        "id": "LqTOXf5G6gJM",
        "outputId": "17558585-964f-4429-d469-c0b40d8c38fc"
      },
      "execution_count": null,
      "outputs": [
        {
          "output_type": "execute_result",
          "data": {
            "text/plain": [
              "[<matplotlib.lines.Line2D at 0x7e8138102090>]"
            ]
          },
          "metadata": {},
          "execution_count": 17
        },
        {
          "output_type": "display_data",
          "data": {
            "text/plain": [
              "<Figure size 640x480 with 1 Axes>"
            ],
            "image/png": "[encoded data removed]"
          },
          "metadata": {}
        }
      ]
    },
    {
      "cell_type": "markdown",
      "source": [
        "# n번째 데이터 예측 후 실제 값과 비교"
      ],
      "metadata": {
        "id": "I2SA3nhB6i0a"
      }
    },
    {
      "cell_type": "code",
      "execution_count": null,
      "metadata": {
        "colab": {
          "base_uri": "https://localhost:8080/",
          "height": 121
        },
        "id": "20m51R4GeHtK",
        "outputId": "5c7073eb-0c6d-4ca3-ede4-023d467a84bc"
      },
      "outputs": [
        {
          "output_type": "stream",
          "name": "stdout",
          "text": [
            "\u001b[1m10/10\u001b[0m \u001b[32m━━━━━━━━━━━━━━━━━━━━\u001b[0m\u001b[37m\u001b[0m \u001b[1m1s\u001b[0m 57ms/step\n"
          ]
        },
        {
          "output_type": "display_data",
          "data": {
            "text/plain": [
              "<PIL.Image.Image image mode=RGB size=50x50>"
            ],
            "image/png": "[encoded data removed]",
            "image/jpeg": "[encoded data removed]"
          },
          "metadata": {}
        },
        {
          "output_type": "stream",
          "name": "stdout",
          "text": [
            "Prediction: [9.9998087e-01 1.8371467e-05 7.7426171e-07]\n",
            "Real: [1. 0. 0.]\n"
          ]
        }
      ],
      "source": [
        "trial=0\n",
        "pred=model.predict(test_X)\n",
        "cv2_imshow(test_X[trial]*255);\n",
        "print(\"Prediction: \" + str(pred[trial]))\n",
        "print(\"Real: \" + str(test_Y[trial]))"
      ]
    },
    {
      "cell_type": "code",
      "source": [
        "from tensorflow.keras.models import load_model\n",
        "# 생성했던 모델을 저장\n",
        "model.save(\"/content/gdrive/MyDrive/software/my_model.keras\")"
      ],
      "metadata": {
        "id": "WFUtIM-hWKoY"
      },
      "execution_count": null,
      "outputs": []
    },
    {
      "cell_type": "code",
      "source": [
        "# 저장된 모델을 불러옴\n",
        "model = load_model(\"/content/gdrive/MyDrive/software/my_model.keras\")\n",
        "# 저장된 모델로 예측\n",
        "model.predict(test_X)"
      ],
      "metadata": {
        "colab": {
          "base_uri": "https://localhost:8080/"
        },
        "id": "tWhTN7UDWb1g",
        "outputId": "178f1c1d-dac3-4271-fb96-a3d4c211d6f6"
      },
      "execution_count": null,
      "outputs": [
        {
          "output_type": "stream",
          "name": "stdout",
          "text": [
            "\r\u001b[1m 1/10\u001b[0m \u001b[32m━━\u001b[0m\u001b[37m━━━━━━━━━━━━━━━━━━\u001b[0m \u001b[1m0s\u001b[0m 56ms/step"
          ]
        },
        {
          "output_type": "stream",
          "name": "stderr",
          "text": [
            "/usr/local/lib/python3.11/dist-packages/keras/src/saving/saving_lib.py:757: UserWarning: Skipping variable loading for optimizer 'rmsprop', because it has 8 variables whereas the saved optimizer has 14 variables. \n",
            "  saveable.load_own_variables(weights_store.get(inner_path))\n"
          ]
        },
        {
          "output_type": "stream",
          "name": "stdout",
          "text": [
            "\u001b[1m10/10\u001b[0m \u001b[32m━━━━━━━━━━━━━━━━━━━━\u001b[0m\u001b[37m\u001b[0m \u001b[1m0s\u001b[0m 20ms/step\n"
          ]
        },
        {
          "output_type": "execute_result",
          "data": {
            "text/plain": [
              "array([[9.99980867e-01, 1.83714674e-05, 7.74261707e-07],\n",
              "       [1.85221870e-05, 9.99980271e-01, 1.20798472e-06],\n",
              "       [4.14248871e-06, 1.75670675e-06, 9.99994099e-01],\n",
              "       [9.99980509e-01, 1.86366706e-05, 7.80150970e-07],\n",
              "       [1.91028630e-05, 9.99979675e-01, 1.25001259e-06],\n",
              "       [4.13883981e-06, 1.75856735e-06, 9.99994099e-01],\n",
              "       [9.99980390e-01, 1.86994075e-05, 7.75332751e-07],\n",
              "       [1.96872588e-05, 9.99978960e-01, 1.26303598e-06],\n",
              "       [4.23420579e-06, 1.79281039e-06, 9.99993861e-01],\n",
              "       [9.99980271e-01, 1.88815775e-05, 7.82159987e-07],\n",
              "       [1.97504414e-05, 9.99978840e-01, 1.27439603e-06],\n",
              "       [4.30122100e-06, 1.81902271e-06, 9.99993861e-01],\n",
              "       [9.99980152e-01, 1.90096780e-05, 7.94480911e-07],\n",
              "       [2.07848261e-05, 9.99977887e-01, 1.33082199e-06],\n",
              "       [4.39349787e-06, 1.86320381e-06, 9.99993742e-01],\n",
              "       [9.99980032e-01, 1.90280662e-05, 7.95952019e-07],\n",
              "       [2.07876401e-05, 9.99977887e-01, 1.33161416e-06],\n",
              "       [4.53584971e-06, 1.91144500e-06, 9.99993503e-01],\n",
              "       [9.99979913e-01, 1.92261614e-05, 7.93334436e-07],\n",
              "       [2.15756718e-05, 9.99977052e-01, 1.35682183e-06],\n",
              "       [4.62136950e-06, 1.97982808e-06, 9.99993384e-01],\n",
              "       [9.99979675e-01, 1.94328368e-05, 7.85118175e-07],\n",
              "       [2.21232294e-05, 9.99976337e-01, 1.37439577e-06],\n",
              "       [4.67809195e-06, 1.99705005e-06, 9.99993265e-01],\n",
              "       [9.99979556e-01, 1.96282544e-05, 7.71328928e-07],\n",
              "       [2.21169430e-05, 9.99976337e-01, 1.37267455e-06],\n",
              "       [4.70399027e-06, 2.00766749e-06, 9.99993265e-01],\n",
              "       [9.99979794e-01, 1.94363238e-05, 7.65287155e-07],\n",
              "       [2.27630935e-05, 9.99975741e-01, 1.41349028e-06],\n",
              "       [4.79203072e-06, 2.02138062e-06, 9.99993145e-01],\n",
              "       [9.99980032e-01, 1.92058033e-05, 7.69003179e-07],\n",
              "       [2.27630717e-05, 9.99975741e-01, 1.41919850e-06],\n",
              "       [4.77914682e-06, 2.03091463e-06, 9.99993145e-01],\n",
              "       [9.99980032e-01, 1.92020125e-05, 7.65255209e-07],\n",
              "       [2.29751004e-05, 9.99975502e-01, 1.45061756e-06],\n",
              "       [4.87389889e-06, 2.05544211e-06, 9.99993026e-01],\n",
              "       [9.99979913e-01, 1.92465232e-05, 7.78162814e-07],\n",
              "       [2.31982813e-05, 9.99975264e-01, 1.46815069e-06],\n",
              "       [4.81430561e-06, 2.04849493e-06, 9.99993026e-01],\n",
              "       [9.99979794e-01, 1.93089199e-05, 7.81326833e-07],\n",
              "       [2.33972878e-05, 9.99975145e-01, 1.48310687e-06],\n",
              "       [4.81195138e-06, 2.03801187e-06, 9.99993145e-01],\n",
              "       [9.99979794e-01, 1.92739826e-05, 7.82153620e-07],\n",
              "       [2.35032658e-05, 9.99974906e-01, 1.51006373e-06],\n",
              "       [4.88518845e-06, 2.06349478e-06, 9.99993026e-01],\n",
              "       [9.99979794e-01, 1.93557480e-05, 7.81635379e-07],\n",
              "       [2.36064607e-05, 9.99974787e-01, 1.51395398e-06],\n",
              "       [4.96228449e-06, 2.08949950e-06, 9.99992907e-01],\n",
              "       [9.99979556e-01, 1.95323846e-05, 7.89647572e-07],\n",
              "       [2.37625572e-05, 9.99974668e-01, 1.52800203e-06],\n",
              "       [4.95220957e-06, 2.07660287e-06, 9.99992907e-01],\n",
              "       [9.99979198e-01, 1.98534453e-05, 7.85317070e-07],\n",
              "       [2.39615347e-05, 9.99974430e-01, 1.51951360e-06],\n",
              "       [4.98741520e-06, 2.09426344e-06, 9.99992907e-01],\n",
              "       [9.99978960e-01, 2.01061539e-05, 7.76554145e-07],\n",
              "       [2.40939789e-05, 9.99974310e-01, 1.52267876e-06],\n",
              "       [4.93250309e-06, 2.09016116e-06, 9.99992907e-01],\n",
              "       [9.99979079e-01, 2.01665698e-05, 7.63612036e-07],\n",
              "       [2.44629646e-05, 9.99973953e-01, 1.52993573e-06],\n",
              "       [4.92822892e-06, 2.10659869e-06, 9.99992907e-01],\n",
              "       [9.99978602e-01, 2.06370205e-05, 7.53378458e-07],\n",
              "       [2.45462725e-05, 9.99973834e-01, 1.52857490e-06],\n",
              "       [4.92869867e-06, 2.10021358e-06, 9.99992907e-01],\n",
              "       [9.99977887e-01, 2.13024141e-05, 7.73367162e-07],\n",
              "       [2.41257767e-05, 9.99974310e-01, 1.49812558e-06],\n",
              "       [4.95752101e-06, 2.10697226e-06, 9.99992907e-01],\n",
              "       [9.99976814e-01, 2.23456736e-05, 7.99467216e-07],\n",
              "       [2.36815704e-05, 9.99974787e-01, 1.46242905e-06],\n",
              "       [4.86141607e-06, 2.05671654e-06, 9.99993026e-01],\n",
              "       [9.99976695e-01, 2.24387150e-05, 7.99956013e-07],\n",
              "       [2.37148142e-05, 9.99974787e-01, 1.45157139e-06],\n",
              "       [4.92862819e-06, 2.05184983e-06, 9.99992907e-01],\n",
              "       [9.99976575e-01, 2.25864442e-05, 8.08062794e-07],\n",
              "       [2.38673729e-05, 9.99974668e-01, 1.44879971e-06],\n",
              "       [4.77949334e-06, 1.99545457e-06, 9.99993145e-01],\n",
              "       [9.99973834e-01, 2.52329028e-05, 8.43770465e-07],\n",
              "       [2.41068283e-05, 9.99974430e-01, 1.44967430e-06],\n",
              "       [4.81089137e-06, 2.00356658e-06, 9.99993145e-01],\n",
              "       [9.99972522e-01, 2.65853723e-05, 8.58003773e-07],\n",
              "       [2.41174530e-05, 9.99974430e-01, 1.42160377e-06],\n",
              "       [4.75977004e-06, 1.98596217e-06, 9.99993145e-01],\n",
              "       [9.99970257e-01, 2.87700695e-05, 8.95073242e-07],\n",
              "       [2.53562976e-05, 9.99973118e-01, 1.47602759e-06],\n",
              "       [4.68496773e-06, 1.96409474e-06, 9.99993265e-01],\n",
              "       [9.99968469e-01, 3.05424255e-05, 9.14255111e-07],\n",
              "       [2.57029351e-05, 9.99972761e-01, 1.46529067e-06],\n",
              "       [4.73663158e-06, 1.98208727e-06, 9.99993265e-01],\n",
              "       [9.99968469e-01, 3.04698697e-05, 9.12651331e-07],\n",
              "       [2.72863763e-05, 9.99971211e-01, 1.48884317e-06],\n",
              "       [4.81736515e-06, 1.98364137e-06, 9.99993145e-01],\n",
              "       [9.99968350e-01, 3.06037109e-05, 9.25557856e-07],\n",
              "       [2.71776680e-05, 9.99971330e-01, 1.47970059e-06],\n",
              "       [4.75240495e-06, 1.96090923e-06, 9.99993265e-01],\n",
              "       [9.99969184e-01, 2.97657607e-05, 9.18066860e-07],\n",
              "       [2.90964890e-05, 9.99969304e-01, 1.54342422e-06],\n",
              "       [4.85866758e-06, 2.00903060e-06, 9.99993026e-01],\n",
              "       [9.99970615e-01, 2.83832578e-05, 9.14871066e-07],\n",
              "       [2.95561149e-05, 9.99968827e-01, 1.53035114e-06],\n",
              "       [4.93945117e-06, 2.02824708e-06, 9.99993026e-01],\n",
              "       [9.99970973e-01, 2.80687291e-05, 9.25173765e-07],\n",
              "       [2.96281032e-05, 9.99968708e-01, 1.54422435e-06],\n",
              "       [4.93795824e-06, 2.02505225e-06, 9.99993026e-01],\n",
              "       [9.99973834e-01, 2.51220699e-05, 9.05880370e-07],\n",
              "       [3.20272302e-05, 9.99966204e-01, 1.67366045e-06],\n",
              "       [4.93551033e-06, 2.01773264e-06, 9.99993026e-01],\n",
              "       [9.99975264e-01, 2.37526710e-05, 8.94337063e-07],\n",
              "       [3.20773615e-05, 9.99966204e-01, 1.67038672e-06],\n",
              "       [4.96825078e-06, 2.03288687e-06, 9.99992907e-01],\n",
              "       [9.99976337e-01, 2.28206864e-05, 8.86089424e-07],\n",
              "       [3.56747878e-05, 9.99962389e-01, 1.93831283e-06],\n",
              "       [5.12631595e-06, 2.07965059e-06, 9.99992788e-01],\n",
              "       [9.99977887e-01, 2.12197283e-05, 8.59484146e-07],\n",
              "       [3.67157481e-05, 9.99961197e-01, 2.06648133e-06],\n",
              "       [5.11612825e-06, 2.06590630e-06, 9.99992788e-01],\n",
              "       [9.99977887e-01, 2.11785464e-05, 8.55061160e-07],\n",
              "       [3.66829918e-05, 9.99961197e-01, 2.06730533e-06],\n",
              "       [5.21661605e-06, 2.09633708e-06, 9.99992669e-01],\n",
              "       [9.99978125e-01, 2.10385024e-05, 8.57298630e-07],\n",
              "       [3.82169965e-05, 9.99959409e-01, 2.23439724e-06],\n",
              "       [5.16722639e-06, 2.07645189e-06, 9.99992669e-01],\n",
              "       [9.99978244e-01, 2.09153532e-05, 8.59788599e-07],\n",
              "       [3.83497027e-05, 9.99959290e-01, 2.25271856e-06],\n",
              "       [5.23239987e-06, 2.12015402e-06, 9.99992549e-01],\n",
              "       [9.99978006e-01, 2.10930230e-05, 8.70085103e-07],\n",
              "       [4.14682690e-05, 9.99955952e-01, 2.46956711e-06],\n",
              "       [5.26188387e-06, 2.12600526e-06, 9.99992549e-01],\n",
              "       [9.99978483e-01, 2.06740115e-05, 8.62807440e-07],\n",
              "       [4.32593915e-05, 9.99953926e-01, 2.73820024e-06],\n",
              "       [5.32142121e-06, 2.15245905e-06, 9.99992430e-01],\n",
              "       [9.99978483e-01, 2.05746855e-05, 8.47265028e-07],\n",
              "       [4.33800997e-05, 9.99953806e-01, 2.75272350e-06],\n",
              "       [5.34871788e-06, 2.15724936e-06, 9.99992430e-01],\n",
              "       [9.99978125e-01, 2.09228911e-05, 8.52416065e-07],\n",
              "       [4.33197347e-05, 9.99953687e-01, 2.96332109e-06],\n",
              "       [5.41369673e-06, 2.19171011e-06, 9.99992311e-01],\n",
              "       [9.99977529e-01, 2.15322689e-05, 8.82447409e-07],\n",
              "       [4.34753856e-05, 9.99953449e-01, 2.93364110e-06],\n",
              "       [5.29988665e-06, 2.16342414e-06, 9.99992430e-01],\n",
              "       [9.99977410e-01, 2.17490888e-05, 8.89561818e-07],\n",
              "       [4.57217466e-05, 9.99950945e-01, 3.20106938e-06],\n",
              "       [5.29323415e-06, 2.19364870e-06, 9.99992430e-01],\n",
              "       [9.99977529e-01, 2.15448799e-05, 8.93315359e-07],\n",
              "       [5.11153703e-05, 9.99945223e-01, 3.53850942e-06],\n",
              "       [5.30685611e-06, 2.20942252e-06, 9.99992430e-01],\n",
              "       [9.99977887e-01, 2.12499435e-05, 8.86618295e-07],\n",
              "       [5.10648024e-05, 9.99945343e-01, 3.55225075e-06],\n",
              "       [5.26678286e-06, 2.21251980e-06, 9.99992430e-01],\n",
              "       [9.99977529e-01, 2.15974833e-05, 8.85577720e-07],\n",
              "       [5.32493141e-05, 9.99942720e-01, 3.90880768e-06],\n",
              "       [5.21633729e-06, 2.20040397e-06, 9.99992549e-01],\n",
              "       [9.99977171e-01, 2.19343237e-05, 8.91071295e-07],\n",
              "       [5.33020029e-05, 9.99942720e-01, 3.90777905e-06],\n",
              "       [5.21617767e-06, 2.21196979e-06, 9.99992549e-01],\n",
              "       [9.99976218e-01, 2.27220698e-05, 9.01856197e-07],\n",
              "       [6.04530178e-05, 9.99935091e-01, 4.37316294e-06],\n",
              "       [5.17852777e-06, 2.22835547e-06, 9.99992549e-01],\n",
              "       [9.99976218e-01, 2.29260222e-05, 8.83529196e-07],\n",
              "       [7.12881520e-05, 9.99923766e-01, 4.88491560e-06],\n",
              "       [5.09745996e-06, 2.20455900e-06, 9.99992669e-01],\n",
              "       [9.99975979e-01, 2.30868627e-05, 8.67446147e-07],\n",
              "       [7.11637840e-05, 9.99923885e-01, 4.89553986e-06],\n",
              "       [5.19652576e-06, 2.24741598e-06, 9.99992549e-01],\n",
              "       [9.99974668e-01, 2.43025115e-05, 8.96954475e-07],\n",
              "       [7.66542289e-05, 9.99918044e-01, 5.27386965e-06],\n",
              "       [5.15118109e-06, 2.25855433e-06, 9.99992549e-01],\n",
              "       [9.99973238e-01, 2.57997308e-05, 9.21765832e-07],\n",
              "       [7.72537605e-05, 9.99917328e-01, 5.37891992e-06],\n",
              "       [5.22102437e-06, 2.28102272e-06, 9.99992430e-01],\n",
              "       [9.99970615e-01, 2.83589889e-05, 9.52691721e-07],\n",
              "       [8.36117761e-05, 9.99910295e-01, 6.07794891e-06],\n",
              "       [5.19953892e-06, 2.29886041e-06, 9.99992430e-01],\n",
              "       [9.99969423e-01, 2.95287209e-05, 9.90469744e-07],\n",
              "       [1.00166013e-04, 9.99892652e-01, 7.14333100e-06],\n",
              "       [5.26728491e-06, 2.32697016e-06, 9.99992311e-01],\n",
              "       [9.99969065e-01, 2.99608710e-05, 9.87932481e-07],\n",
              "       [9.96317831e-05, 9.99893129e-01, 7.17643661e-06],\n",
              "       [5.22697246e-06, 2.35077869e-06, 9.99992311e-01],\n",
              "       [9.99970138e-01, 2.88109477e-05, 9.67054802e-07],\n",
              "       [1.14261667e-04, 9.99877214e-01, 8.56471434e-06],\n",
              "       [5.25126461e-06, 2.35223843e-06, 9.99992311e-01],\n",
              "       [9.99972045e-01, 2.69327775e-05, 9.58501914e-07],\n",
              "       [1.13701826e-04, 9.99877930e-01, 8.47488991e-06],\n",
              "       [5.31608430e-06, 2.36936512e-06, 9.99992311e-01],\n",
              "       [9.99973476e-01, 2.55500108e-05, 9.35890682e-07],\n",
              "       [1.25247621e-04, 9.99864817e-01, 9.87554085e-06],\n",
              "       [5.40353994e-06, 2.37160975e-06, 9.99992192e-01],\n",
              "       [9.99974549e-01, 2.44944931e-05, 9.05997638e-07],\n",
              "       [1.37554380e-04, 9.99850988e-01, 1.16089477e-05],\n",
              "       [5.42448652e-06, 2.41840598e-06, 9.99992073e-01],\n",
              "       [9.99974906e-01, 2.41975213e-05, 8.92208732e-07],\n",
              "       [1.39089098e-04, 9.99849319e-01, 1.17281634e-05],\n",
              "       [5.54450889e-06, 2.44417288e-06, 9.99991953e-01],\n",
              "       [9.99975622e-01, 2.35091993e-05, 8.75989429e-07],\n",
              "       [1.47621962e-04, 9.99839067e-01, 1.32460364e-05],\n",
              "       [5.59511318e-06, 2.48109336e-06, 9.99991834e-01],\n",
              "       [9.99976099e-01, 2.30324804e-05, 8.57314092e-07],\n",
              "       [1.47604369e-04, 9.99839067e-01, 1.33347967e-05],\n",
              "       [5.65085065e-06, 2.51100050e-06, 9.99991834e-01],\n",
              "       [9.99975860e-01, 2.32878465e-05, 8.70979875e-07],\n",
              "       [1.68483166e-04, 9.99817133e-01, 1.42641884e-05],\n",
              "       [5.68617179e-06, 2.51641791e-06, 9.99991715e-01],\n",
              "       [9.99975622e-01, 2.34283580e-05, 8.88784371e-07],\n",
              "       [1.93606407e-04, 9.99791384e-01, 1.50521837e-05],\n",
              "       [5.78308436e-06, 2.57101237e-06, 9.99991596e-01],\n",
              "       [9.99975145e-01, 2.39896053e-05, 8.91543777e-07],\n",
              "       [1.93455096e-04, 9.99791622e-01, 1.50140804e-05],\n",
              "       [5.79489370e-06, 2.57196143e-06, 9.99991596e-01],\n",
              "       [9.99974906e-01, 2.40910285e-05, 9.01186070e-07],\n",
              "       [2.19460388e-04, 9.99763012e-01, 1.75504938e-05],\n",
              "       [5.87748264e-06, 2.58457226e-06, 9.99991477e-01],\n",
              "       [9.99975383e-01, 2.37464228e-05, 8.76263300e-07],\n",
              "       [2.21462731e-04, 9.99760866e-01, 1.76682133e-05],\n",
              "       [5.85034331e-06, 2.61154196e-06, 9.99991477e-01],\n",
              "       [9.99976099e-01, 2.30378846e-05, 8.57509463e-07],\n",
              "       [2.49315082e-04, 9.99730110e-01, 2.06717959e-05],\n",
              "       [5.88237799e-06, 2.61164655e-06, 9.99991477e-01],\n",
              "       [9.99976695e-01, 2.24416872e-05, 8.48307309e-07],\n",
              "       [2.95412494e-04, 9.99678969e-01, 2.56106141e-05],\n",
              "       [5.79323569e-06, 2.58306477e-06, 9.99991596e-01],\n",
              "       [9.99977529e-01, 2.16143380e-05, 8.11548887e-07],\n",
              "       [2.99416977e-04, 9.99674678e-01, 2.59156805e-05],\n",
              "       [5.80415144e-06, 2.60607590e-06, 9.99991477e-01],\n",
              "       [9.99978006e-01, 2.11435945e-05, 7.83466191e-07],\n",
              "       [3.16579011e-04, 9.99654770e-01, 2.86165596e-05],\n",
              "       [5.73099805e-06, 2.57261149e-06, 9.99991596e-01],\n",
              "       [9.99978721e-01, 2.04105272e-05, 7.87069609e-07],\n",
              "       [3.19716724e-04, 9.99651432e-01, 2.88296324e-05],\n",
              "       [5.68078440e-06, 2.56107728e-06, 9.99991715e-01],\n",
              "       [9.99978721e-01, 2.03651871e-05, 7.93731544e-07],\n",
              "       [3.68788984e-04, 9.99598444e-01, 3.27560520e-05],\n",
              "       [5.65947357e-06, 2.54141082e-06, 9.99991715e-01],\n",
              "       [9.99978483e-01, 2.06105051e-05, 7.99567658e-07],\n",
              "       [3.81282327e-04, 9.99585927e-01, 3.27271337e-05],\n",
              "       [5.56446275e-06, 2.50513563e-06, 9.99991834e-01],\n",
              "       [9.99978483e-01, 2.06626210e-05, 8.11442931e-07],\n",
              "       [3.81091435e-04, 9.99585807e-01, 3.31340088e-05],\n",
              "       [5.58659303e-06, 2.52814220e-06, 9.99991834e-01],\n",
              "       [9.99978602e-01, 2.04719508e-05, 8.11608572e-07],\n",
              "       [4.13112604e-04, 9.99550998e-01, 3.58953002e-05],\n",
              "       [5.54420149e-06, 2.51149390e-06, 9.99991834e-01],\n",
              "       [9.99978960e-01, 2.01797084e-05, 7.80904543e-07],\n",
              "       [4.09170170e-04, 9.99556839e-01, 3.39987382e-05],\n",
              "       [5.64511856e-06, 2.55459099e-06, 9.99991715e-01],\n",
              "       [9.99978960e-01, 2.01595121e-05, 7.84123984e-07],\n",
              "       [4.45198792e-04, 9.99519289e-01, 3.55228694e-05],\n",
              "       [5.62092373e-06, 2.53921621e-06, 9.99991834e-01],\n",
              "       [9.99978364e-01, 2.07210687e-05, 7.86308590e-07],\n",
              "       [4.74055938e-04, 9.99487579e-01, 3.83025581e-05],\n",
              "       [5.61640127e-06, 2.53978055e-06, 9.99991834e-01],\n",
              "       [9.99978602e-01, 2.06005261e-05, 7.69194969e-07],\n",
              "       [4.73949040e-04, 9.99487579e-01, 3.83191837e-05],\n",
              "       [5.60970466e-06, 2.53887970e-06, 9.99991834e-01],\n",
              "       [9.99978364e-01, 2.08578695e-05, 7.63674109e-07],\n",
              "       [5.25070471e-04, 9.99429822e-01, 4.51965425e-05],\n",
              "       [5.66823473e-06, 2.55175678e-06, 9.99991715e-01],\n",
              "       [9.99978125e-01, 2.10536364e-05, 7.70512429e-07],\n",
              "       [5.24212373e-04, 9.99429822e-01, 4.58178365e-05],\n",
              "       [5.66768904e-06, 2.54954557e-06, 9.99991715e-01],\n",
              "       [9.99977767e-01, 2.12882351e-05, 7.77593641e-07],\n",
              "       [5.88509603e-04, 9.99355972e-01, 5.54566905e-05],\n",
              "       [5.70516704e-06, 2.56526209e-06, 9.99991715e-01],\n",
              "       [9.99978244e-01, 2.09641985e-05, 7.74038199e-07],\n",
              "       [6.55092415e-04, 9.99279261e-01, 6.57970959e-05],\n",
              "       [5.67528286e-06, 2.52228028e-06, 9.99991715e-01],\n",
              "       [9.99978006e-01, 2.11291826e-05, 7.94950608e-07],\n",
              "       [6.53614872e-04, 9.99280930e-01, 6.54855830e-05],\n",
              "       [5.67552661e-06, 2.53458279e-06, 9.99991715e-01],\n",
              "       [9.99978006e-01, 2.10926610e-05, 7.96346797e-07],\n",
              "       [7.26119848e-04, 9.99195993e-01, 7.78413523e-05],\n",
              "       [5.64818356e-06, 2.51234428e-06, 9.99991834e-01],\n",
              "       [9.99977887e-01, 2.12705418e-05, 7.92117191e-07],\n",
              "       [7.23783625e-04, 9.99198258e-01, 7.80568880e-05],\n",
              "       [5.64570564e-06, 2.53469898e-06, 9.99991715e-01],\n",
              "       [9.99976695e-01, 2.23557745e-05, 8.16071406e-07],\n",
              "       [7.28181330e-04, 9.99189556e-01, 8.23070950e-05],\n",
              "       [5.67223105e-06, 2.52582367e-06, 9.99991715e-01],\n",
              "       [9.99975860e-01, 2.32507409e-05, 8.09524636e-07],\n",
              "       [7.42881559e-04, 9.99169409e-01, 8.77203638e-05],\n",
              "       [5.71994724e-06, 2.53514850e-06, 9.99991715e-01],\n",
              "       [9.99974668e-01, 2.44095681e-05, 8.27833162e-07],\n",
              "       [7.47226761e-04, 9.99164522e-01, 8.83159883e-05],\n",
              "       [5.66879180e-06, 2.53264511e-06, 9.99991715e-01],\n",
              "       [9.99973953e-01, 2.51778838e-05, 8.69455334e-07],\n",
              "       [7.96560955e-04, 9.99108911e-01, 9.44855274e-05],\n",
              "       [5.72405634e-06, 2.54935821e-06, 9.99991715e-01],\n",
              "       [9.99973834e-01, 2.51884740e-05, 8.96653546e-07],\n",
              "       [7.96364387e-04, 9.99109149e-01, 9.44250205e-05],\n",
              "       [5.74065871e-06, 2.54347424e-06, 9.99991715e-01],\n",
              "       [9.99973238e-01, 2.57194260e-05, 9.28338181e-07],\n",
              "       [8.23209644e-04, 9.99080181e-01, 9.65554864e-05],\n",
              "       [5.73769739e-06, 2.57101715e-06, 9.99991596e-01],\n",
              "       [9.99974668e-01, 2.42946553e-05, 9.10891799e-07],\n",
              "       [8.61808949e-04, 9.99035895e-01, 1.02310281e-04],\n",
              "       [5.76532511e-06, 2.57985698e-06, 9.99991596e-01],\n",
              "       [9.99975264e-01, 2.38413613e-05, 8.69397638e-07],\n",
              "       [8.63007677e-04, 9.99034464e-01, 1.02514554e-04],\n",
              "       [5.82888106e-06, 2.60462002e-06, 9.99991536e-01],\n",
              "       [9.99975681e-01, 2.34659474e-05, 8.35888500e-07],\n",
              "       [9.28612542e-04, 9.98963118e-01, 1.08232562e-04],\n",
              "       [5.77649780e-06, 2.56313911e-06, 9.99991655e-01]], dtype=float32)"
            ]
          },
          "metadata": {},
          "execution_count": 21
        }
      ]
    }
  ]
}
