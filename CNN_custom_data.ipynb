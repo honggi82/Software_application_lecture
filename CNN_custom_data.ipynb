{
  "nbformat": 4,
  "nbformat_minor": 0,
  "metadata": {
    "colab": {
      "provenance": [],
      "include_colab_link": true
    },
    "kernelspec": {
      "name": "python3",
      "display_name": "Python 3"
    },
    "language_info": {
      "name": "python"
    },
    "accelerator": "TPU",
    "gpuClass": "standard"
  },
  "cells": [
    {
      "cell_type": "markdown",
      "metadata": {
        "id": "view-in-github",
        "colab_type": "text"
      },
      "source": [
        "<a href=\"https://colab.research.google.com/github/honggi82/Software_application_lecture/blob/main/CNN_custom_data.ipynb\" target=\"_parent\"><img src=\"https://colab.research.google.com/assets/colab-badge.svg\" alt=\"Open In Colab\"/></a>"
      ]
    },
    {
      "cell_type": "markdown",
      "source": [
        "# 구글 드라이브 마운트"
      ],
      "metadata": {
        "id": "Mwzs7FDX0YMI"
      }
    },
    {
      "cell_type": "code",
      "source": [
        "from google.colab import drive\n",
        "drive.mount('/content/gdrive')"
      ],
      "metadata": {
        "colab": {
          "base_uri": "https://localhost:8080/"
        },
        "id": "3KaICLGO0T96",
        "outputId": "b692d331-adfd-4f53-ccd9-7dc0147badaf"
      },
      "execution_count": 1,
      "outputs": [
        {
          "output_type": "stream",
          "name": "stdout",
          "text": [
            "Mounted at /content/gdrive\n"
          ]
        }
      ]
    },
    {
      "cell_type": "markdown",
      "source": [
        "# 라이브러리 가져오기"
      ],
      "metadata": {
        "id": "rTjm2eY8TCCM"
      }
    },
    {
      "cell_type": "code",
      "source": [
        "from keras.utils import np_utils\n",
        "from keras.models import Sequential\n",
        "from keras.layers import Conv2D, pooling, Flatten, Dense\n",
        "import cv2\n",
        "from google.colab.patches import cv2_imshow\n",
        "import matplotlib.pyplot as plt\n",
        "import numpy as np"
      ],
      "metadata": {
        "id": "UhOqpYmyTDwL"
      },
      "execution_count": 2,
      "outputs": []
    },
    {
      "cell_type": "markdown",
      "source": [
        "# Training 데이터셋 불러오기\n",
        "\"http://content/gdrive/MyDrive/software/\"는 데이터셋이 있는 폴더 위치로 다른 경우 변경해야 함.\n",
        "각 사진 파일은 \"face숫자_숫자.jpg\"란 이름으로 저장되어 있으며, 앞의 숫자는 class를 뒤의 숫자는 몇 번째 데이터인지를 나타내는 숫자임.\n",
        "아래 코드는 class가 0, 1, 2가 있으며, 데이터가 100개 있는 경우에 대한 코드임."
      ],
      "metadata": {
        "id": "VweaNS5NTGBi"
      }
    },
    {
      "cell_type": "code",
      "source": [
        "train_X=[]; test_X=[]; train_Y=[]; test_Y=[]; \n",
        "\n",
        "for i in range(0,100): # 데이터셋 100개를 training 용으로 읽어오는 코드\n",
        "    img=cv2.imread(\"/content/gdrive/MyDrive/software/face0_\"+str(i)+\".jpg\") \n",
        "    train_X.append(cv2.resize(img,(50,50))) # 사진 크기를 50*50으로 변경해주는 코드\n",
        "    train_Y.append(0)\n",
        "    img=cv2.imread(\"/content/gdrive/MyDrive/software/face1_\"+str(i)+\".jpg\")\n",
        "    train_X.append(cv2.resize(img,(50,50)))\n",
        "    train_Y.append(1)\n",
        "    img=cv2.imread(\"/content/gdrive/MyDrive/software/face2_\"+str(i)+\".jpg\")\n",
        "    train_X.append(cv2.resize(img,(50,50)))\n",
        "    train_Y.append(2)"
      ],
      "metadata": {
        "id": "4UHGZTaOTL9C"
      },
      "execution_count": 7,
      "outputs": []
    },
    {
      "cell_type": "markdown",
      "source": [
        "# 데이터를 numpy array로 변경"
      ],
      "metadata": {
        "id": "eXmVjxmBUIzb"
      }
    },
    {
      "cell_type": "code",
      "source": [
        "train_X=np.array(train_X)\n",
        "train_Y=np.array(train_Y)"
      ],
      "metadata": {
        "id": "_17Jf-p4UM6b"
      },
      "execution_count": 8,
      "outputs": []
    },
    {
      "cell_type": "markdown",
      "source": [
        "# 샘플 테이터 그려보기"
      ],
      "metadata": {
        "id": "ZrHrdNfTURPD"
      }
    },
    {
      "cell_type": "code",
      "source": [
        "cv2_imshow(train_X[0]); cv2_imshow(train_X[1]); cv2_imshow(train_X[2]);\n",
        "print(train_Y[0]); print(train_Y[1]); print(train_Y[2]);"
      ],
      "metadata": {
        "colab": {
          "base_uri": "https://localhost:8080/",
          "height": 221
        },
        "id": "n87a_TjfUaWr",
        "outputId": "a1910573-4792-4ce9-fdc5-300e7811d706"
      },
      "execution_count": 9,
      "outputs": [
        {
          "output_type": "display_data",
          "data": {
            "text/plain": [
              "<PIL.Image.Image image mode=RGB size=50x50 at 0x7F820B9D0F70>"
            ],
            "image/png": "[encoded data removed]"
          },
          "metadata": {}
        },
        {
          "output_type": "display_data",
          "data": {
            "text/plain": [
              "<PIL.Image.Image image mode=RGB size=50x50 at 0x7F820B9D0EE0>"
            ],
            "image/png": "[encoded data removed]"
          },
          "metadata": {}
        },
        {
          "output_type": "display_data",
          "data": {
            "text/plain": [
              "<PIL.Image.Image image mode=RGB size=50x50 at 0x7F820B9D0040>"
            ],
            "image/png": "[encoded data removed]"
          },
          "metadata": {}
        },
        {
          "output_type": "stream",
          "name": "stdout",
          "text": [
            "0\n",
            "1\n",
            "2\n"
          ]
        }
      ]
    },
    {
      "cell_type": "markdown",
      "source": [
        "# Test 데이터셋 불러오기"
      ],
      "metadata": {
        "id": "-XHBVDuZ4t62"
      }
    },
    {
      "cell_type": "code",
      "source": [
        "for i in range(100,200):\n",
        "    img=cv2.imread(\"/content/gdrive/MyDrive/software/face0_\"+str(i)+\".jpg\")\n",
        "    test_X.append(cv2.resize(img,(50,50)))\n",
        "    test_Y.append(0)\n",
        "    img=cv2.imread(\"/content/gdrive/MyDrive/software/face1_\"+str(i)+\".jpg\")\n",
        "    test_X.append(cv2.resize(img,(50,50)))\n",
        "    test_Y.append(1)\n",
        "    img=cv2.imread(\"/content/gdrive/MyDrive/software/face2_\"+str(i)+\".jpg\")\n",
        "    test_X.append(cv2.resize(img,(50,50)))\n",
        "    test_Y.append(2)"
      ],
      "metadata": {
        "id": "uxnMW1-T4zXM"
      },
      "execution_count": 10,
      "outputs": []
    },
    {
      "cell_type": "markdown",
      "source": [
        "# 데이터를 numpy array로 변경"
      ],
      "metadata": {
        "id": "4QJ3yCZM43kt"
      }
    },
    {
      "cell_type": "code",
      "source": [
        "test_X=np.array(test_X)\n",
        "test_Y=np.array(test_Y)"
      ],
      "metadata": {
        "id": "YRYBVCwZ49b9"
      },
      "execution_count": 11,
      "outputs": []
    },
    {
      "cell_type": "markdown",
      "source": [
        "# 샘플 테이터 그려보기"
      ],
      "metadata": {
        "id": "baNk8Hfm5B1G"
      }
    },
    {
      "cell_type": "code",
      "source": [
        "cv2_imshow(test_X[0]); cv2_imshow(test_X[1]); cv2_imshow(test_X[2]); \n",
        "print(test_Y[0]); print(test_Y[1]); print(test_Y[2]);"
      ],
      "metadata": {
        "colab": {
          "base_uri": "https://localhost:8080/",
          "height": 221
        },
        "id": "NZbFxXMZ5DIV",
        "outputId": "8ccc173d-f075-41cd-e4e2-45157dedd962"
      },
      "execution_count": 12,
      "outputs": [
        {
          "output_type": "display_data",
          "data": {
            "text/plain": [
              "<PIL.Image.Image image mode=RGB size=50x50 at 0x7F820B8C1A90>"
            ],
            "image/png": "[encoded data removed]"
          },
          "metadata": {}
        },
        {
          "output_type": "display_data",
          "data": {
            "text/plain": [
              "<PIL.Image.Image image mode=RGB size=50x50 at 0x7F820B8C1D90>"
            ],
            "image/png": "[encoded data removed]"
          },
          "metadata": {}
        },
        {
          "output_type": "display_data",
          "data": {
            "text/plain": [
              "<PIL.Image.Image image mode=RGB size=50x50 at 0x7F820B8C1AF0>"
            ],
            "image/png": "[encoded data removed]"
          },
          "metadata": {}
        },
        {
          "output_type": "stream",
          "name": "stdout",
          "text": [
            "0\n",
            "1\n",
            "2\n"
          ]
        }
      ]
    },
    {
      "cell_type": "markdown",
      "source": [
        "# 데이터 정규화"
      ],
      "metadata": {
        "id": "0N4poMXj5JKP"
      }
    },
    {
      "cell_type": "code",
      "source": [
        "train_X = train_X.astype('float32')/255.0 \n",
        "test_X = test_X.astype('float32')/255.0"
      ],
      "metadata": {
        "id": "n1gdXjmh5QII"
      },
      "execution_count": 13,
      "outputs": []
    },
    {
      "cell_type": "markdown",
      "source": [
        "# One-Hot Encoding"
      ],
      "metadata": {
        "id": "NLMB3D105Peu"
      }
    },
    {
      "cell_type": "code",
      "source": [
        "train_Y = np_utils.to_categorical(train_Y) \n",
        "test_Y = np_utils.to_categorical(test_Y) "
      ],
      "metadata": {
        "id": "NDIpQEOv5WGO"
      },
      "execution_count": 14,
      "outputs": []
    },
    {
      "cell_type": "markdown",
      "source": [
        "# CNN 모델 생성"
      ],
      "metadata": {
        "id": "vO_LkJvK5Z-v"
      }
    },
    {
      "cell_type": "code",
      "source": [
        "model = Sequential([\n",
        "    Conv2D(32, (3,3), padding='same', strides=(1,1), activation='relu', input_shape=(50,50,3)),\n",
        "    pooling.MaxPooling2D(pool_size=(2,2)),\n",
        "    Conv2D(64, (3,3), padding='same', strides=(1,1), activation='relu'),\n",
        "    pooling.MaxPooling2D(pool_size=(2,2)),\n",
        "    Flatten(),\n",
        "    Dense(3, activation='softmax')])\n",
        "model.compile(loss='categorical_crossentropy', optimizer='Adam', metrics=['accuracy'])\n",
        "model.summary()"
      ],
      "metadata": {
        "colab": {
          "base_uri": "https://localhost:8080/"
        },
        "id": "HT3_ogrt5cVu",
        "outputId": "568d9482-3214-40d0-d03d-0109eea74b29"
      },
      "execution_count": 15,
      "outputs": [
        {
          "output_type": "stream",
          "name": "stdout",
          "text": [
            "Model: \"sequential\"\n",
            "_________________________________________________________________\n",
            " Layer (type)                Output Shape              Param #   \n",
            "=================================================================\n",
            " conv2d (Conv2D)             (None, 50, 50, 32)        896       \n",
            "                                                                 \n",
            " max_pooling2d (MaxPooling2D  (None, 25, 25, 32)       0         \n",
            " )                                                               \n",
            "                                                                 \n",
            " conv2d_1 (Conv2D)           (None, 25, 25, 64)        18496     \n",
            "                                                                 \n",
            " max_pooling2d_1 (MaxPooling  (None, 12, 12, 64)       0         \n",
            " 2D)                                                             \n",
            "                                                                 \n",
            " flatten (Flatten)           (None, 9216)              0         \n",
            "                                                                 \n",
            " dense (Dense)               (None, 3)                 27651     \n",
            "                                                                 \n",
            "=================================================================\n",
            "Total params: 47,043\n",
            "Trainable params: 47,043\n",
            "Non-trainable params: 0\n",
            "_________________________________________________________________\n"
          ]
        }
      ]
    },
    {
      "cell_type": "markdown",
      "source": [
        "# Training"
      ],
      "metadata": {
        "id": "XjsUn0th5x-5"
      }
    },
    {
      "cell_type": "code",
      "source": [
        "history=model.fit(train_X, train_Y, batch_size=8, epochs=5) "
      ],
      "metadata": {
        "colab": {
          "base_uri": "https://localhost:8080/"
        },
        "id": "yTWM0sBJ5zN-",
        "outputId": "0d439d0a-4591-4e80-e5e8-762b70f806a3"
      },
      "execution_count": 16,
      "outputs": [
        {
          "output_type": "stream",
          "name": "stdout",
          "text": [
            "Epoch 1/5\n",
            "38/38 [==============================] - 3s 36ms/step - loss: 0.3147 - accuracy: 0.8867\n",
            "Epoch 2/5\n",
            "38/38 [==============================] - 2s 61ms/step - loss: 8.7167e-05 - accuracy: 1.0000\n",
            "Epoch 3/5\n",
            "38/38 [==============================] - 2s 62ms/step - loss: 2.7972e-05 - accuracy: 1.0000\n",
            "Epoch 4/5\n",
            "38/38 [==============================] - 2s 64ms/step - loss: 2.2961e-05 - accuracy: 1.0000\n",
            "Epoch 5/5\n",
            "38/38 [==============================] - 2s 64ms/step - loss: 1.9827e-05 - accuracy: 1.0000\n"
          ]
        }
      ]
    },
    {
      "cell_type": "markdown",
      "source": [
        "# Test"
      ],
      "metadata": {
        "id": "sg0q06CA59ys"
      }
    },
    {
      "cell_type": "code",
      "source": [
        "_, accuracy = model.evaluate(test_X, test_Y)\n",
        "print('Accuracy: ', accuracy)"
      ],
      "metadata": {
        "colab": {
          "base_uri": "https://localhost:8080/"
        },
        "id": "Bi5i1iQR6EgP",
        "outputId": "945e488a-0b63-4ba5-be90-2742220e73da"
      },
      "execution_count": 17,
      "outputs": [
        {
          "output_type": "stream",
          "name": "stdout",
          "text": [
            "10/10 [==============================] - 1s 45ms/step - loss: 1.2609e-04 - accuracy: 1.0000\n",
            "Accuracy:  1.0\n"
          ]
        }
      ]
    },
    {
      "cell_type": "markdown",
      "source": [
        "# Loss 그리기"
      ],
      "metadata": {
        "id": "YhQBT_mw6Y8r"
      }
    },
    {
      "cell_type": "code",
      "source": [
        "plt.plot(history.history['loss'], label='loss')"
      ],
      "metadata": {
        "colab": {
          "base_uri": "https://localhost:8080/",
          "height": 448
        },
        "id": "LqTOXf5G6gJM",
        "outputId": "96ab5a9f-feaf-44b0-9a2a-f9c34db82cc6"
      },
      "execution_count": 18,
      "outputs": [
        {
          "output_type": "execute_result",
          "data": {
            "text/plain": [
              "[<matplotlib.lines.Line2D at 0x7f82083510a0>]"
            ]
          },
          "metadata": {},
          "execution_count": 18
        },
        {
          "output_type": "display_data",
          "data": {
            "text/plain": [
              "<Figure size 640x480 with 1 Axes>"
            ],
            "image/png": "[encoded data removed]"
          },
          "metadata": {}
        }
      ]
    },
    {
      "cell_type": "markdown",
      "source": [
        "# n번째 데이터 예측 후 실제 값과 비교"
      ],
      "metadata": {
        "id": "I2SA3nhB6i0a"
      }
    },
    {
      "cell_type": "code",
      "execution_count": 19,
      "metadata": {
        "colab": {
          "base_uri": "https://localhost:8080/",
          "height": 121
        },
        "id": "20m51R4GeHtK",
        "outputId": "2287a027-615f-486f-df54-c51821003c53"
      },
      "outputs": [
        {
          "output_type": "stream",
          "name": "stdout",
          "text": [
            "10/10 [==============================] - 1s 59ms/step\n"
          ]
        },
        {
          "output_type": "display_data",
          "data": {
            "text/plain": [
              "<PIL.Image.Image image mode=RGB size=50x50 at 0x7F820834CAC0>"
            ],
            "image/png": "[encoded data removed]"
          },
          "metadata": {}
        },
        {
          "output_type": "stream",
          "name": "stdout",
          "text": [
            "Prediction: [9.99980867e-01 1.45509175e-05 4.50890184e-06]\n",
            "Real: [1. 0. 0.]\n"
          ]
        }
      ],
      "source": [
        "trial=0\n",
        "pred=model.predict(test_X)\n",
        "cv2_imshow(test_X[trial]*255);\n",
        "print(\"Prediction: \" + str(pred[trial]))\n",
        "print(\"Real: \" + str(test_Y[trial]))"
      ]
    }
  ]
}