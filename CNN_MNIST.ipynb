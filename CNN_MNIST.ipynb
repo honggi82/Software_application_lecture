{
  "nbformat": 4,
  "nbformat_minor": 0,
  "metadata": {
    "colab": {
      "name": "CNN_MNIST.ipynb",
      "provenance": [],
      "include_colab_link": true
    },
    "kernelspec": {
      "name": "python3",
      "display_name": "Python 3"
    },
    "accelerator": "GPU",
    "gpuClass": "standard"
  },
  "cells": [
    {
      "cell_type": "markdown",
      "metadata": {
        "id": "view-in-github",
        "colab_type": "text"
      },
      "source": [
        "<a href=\"https://colab.research.google.com/github/honggi82/Software_application_lecture/blob/main/CNN_MNIST.ipynb\" target=\"_parent\"><img src=\"https://colab.research.google.com/assets/colab-badge.svg\" alt=\"Open In Colab\"/></a>"
      ]
    },
    {
      "cell_type": "markdown",
      "source": [
        "# 라이브러리 가져오기"
      ],
      "metadata": {
        "id": "v4VPChaqzwFb"
      }
    },
    {
      "cell_type": "code",
      "source": [
        "from keras.utils import np_utils\n",
        "from keras.datasets import mnist\n",
        "from keras.models import Sequential\n",
        "from keras.layers import Conv2D, pooling, Flatten, Dense"
      ],
      "metadata": {
        "id": "2LY5Et3ozvp8"
      },
      "execution_count": 1,
      "outputs": []
    },
    {
      "cell_type": "markdown",
      "source": [
        "# MNIST 데이터셋 불러오기"
      ],
      "metadata": {
        "id": "O-8qqeqyz11u"
      }
    },
    {
      "cell_type": "code",
      "source": [
        "(train_X, train_Y), (test_X, test_Y) = mnist.load_data()\n",
        "\n",
        "print(train_X.shape,  train_Y.shape,  test_X.shape,  test_Y.shape)"
      ],
      "metadata": {
        "colab": {
          "base_uri": "https://localhost:8080/"
        },
        "id": "MSU3NuiSz28T",
        "outputId": "4789b4b0-a008-43cf-92c1-0d3d166bf7e0"
      },
      "execution_count": 2,
      "outputs": [
        {
          "output_type": "stream",
          "name": "stdout",
          "text": [
            "Downloading data from https://storage.googleapis.com/tensorflow/tf-keras-datasets/mnist.npz\n",
            "11490434/11490434 [==============================] - 2s 0us/step\n",
            "(60000, 28, 28) (60000,) (10000, 28, 28) (10000,)\n"
          ]
        }
      ]
    },
    {
      "cell_type": "markdown",
      "source": [
        "# 데이터 정규화"
      ],
      "metadata": {
        "id": "B01pp63Kz7az"
      }
    },
    {
      "cell_type": "code",
      "source": [
        "train_X = train_X.reshape(train_X.shape[0], 28,28,1).astype('float32')/255.0\n",
        "test_X = test_X.reshape(test_X.shape[0], 28,28,1).astype('float32')/255.0"
      ],
      "metadata": {
        "id": "9xlFvhbmz-Mz"
      },
      "execution_count": 3,
      "outputs": []
    },
    {
      "cell_type": "markdown",
      "source": [
        "# One-Hot Encoding"
      ],
      "metadata": {
        "id": "fn5w9aNX0A0z"
      }
    },
    {
      "cell_type": "code",
      "source": [
        "train_Y = np_utils.to_categorical(train_Y) \n",
        "test_Y = np_utils.to_categorical(test_Y)"
      ],
      "metadata": {
        "id": "SA1lo3kN0Dm7"
      },
      "execution_count": 4,
      "outputs": []
    },
    {
      "cell_type": "markdown",
      "source": [
        "# CNN 모델 생성"
      ],
      "metadata": {
        "id": "uj0tUHtb0HAr"
      }
    },
    {
      "cell_type": "code",
      "source": [
        "model = Sequential([\n",
        "Conv2D(32, (3,3), padding='same', strides=(1,1), activation='relu', input_shape=(28,28,1)),\n",
        "pooling.MaxPooling2D(pool_size=(2,2)),\n",
        "Conv2D(64, (3,3), padding='same', strides=(1,1), activation='relu'),\n",
        "pooling.MaxPooling2D(pool_size=(2,2)),\n",
        "Flatten(),\n",
        "Dense(10, activation='softmax')])\n",
        "\n",
        "model.compile(loss='categorical_crossentropy', optimizer='sgd', metrics=['accuracy'])\n",
        "\n",
        "model.summary()"
      ],
      "metadata": {
        "colab": {
          "base_uri": "https://localhost:8080/"
        },
        "id": "hMwU5rCg0Ltq",
        "outputId": "9067a0ff-9598-4a63-8479-077754be1131"
      },
      "execution_count": 5,
      "outputs": [
        {
          "output_type": "stream",
          "name": "stdout",
          "text": [
            "Model: \"sequential\"\n",
            "_________________________________________________________________\n",
            " Layer (type)                Output Shape              Param #   \n",
            "=================================================================\n",
            " conv2d (Conv2D)             (None, 28, 28, 32)        320       \n",
            "                                                                 \n",
            " max_pooling2d (MaxPooling2D  (None, 14, 14, 32)       0         \n",
            " )                                                               \n",
            "                                                                 \n",
            " conv2d_1 (Conv2D)           (None, 14, 14, 64)        18496     \n",
            "                                                                 \n",
            " max_pooling2d_1 (MaxPooling  (None, 7, 7, 64)         0         \n",
            " 2D)                                                             \n",
            "                                                                 \n",
            " flatten (Flatten)           (None, 3136)              0         \n",
            "                                                                 \n",
            " dense (Dense)               (None, 10)                31370     \n",
            "                                                                 \n",
            "=================================================================\n",
            "Total params: 50,186\n",
            "Trainable params: 50,186\n",
            "Non-trainable params: 0\n",
            "_________________________________________________________________\n"
          ]
        }
      ]
    },
    {
      "cell_type": "markdown",
      "source": [
        "# Training"
      ],
      "metadata": {
        "id": "lI7OOUnE0P_b"
      }
    },
    {
      "cell_type": "code",
      "source": [
        "model.fit(train_X, train_Y, epochs=25)"
      ],
      "metadata": {
        "colab": {
          "base_uri": "https://localhost:8080/"
        },
        "id": "_1zmaBIe0QwC",
        "outputId": "203fb565-fa53-480a-e2f8-37a64bc482b6"
      },
      "execution_count": 6,
      "outputs": [
        {
          "output_type": "stream",
          "name": "stdout",
          "text": [
            "Epoch 1/25\n",
            "1875/1875 [==============================] - 18s 3ms/step - loss: 0.5666 - accuracy: 0.8421\n",
            "Epoch 2/25\n",
            "1875/1875 [==============================] - 7s 4ms/step - loss: 0.1765 - accuracy: 0.9481\n",
            "Epoch 3/25\n",
            "1875/1875 [==============================] - 7s 3ms/step - loss: 0.1212 - accuracy: 0.9648\n",
            "Epoch 4/25\n",
            "1875/1875 [==============================] - 6s 3ms/step - loss: 0.0970 - accuracy: 0.9715\n",
            "Epoch 5/25\n",
            "1875/1875 [==============================] - 7s 4ms/step - loss: 0.0824 - accuracy: 0.9753\n",
            "Epoch 6/25\n",
            "1875/1875 [==============================] - 6s 3ms/step - loss: 0.0726 - accuracy: 0.9783\n",
            "Epoch 7/25\n",
            "1875/1875 [==============================] - 7s 4ms/step - loss: 0.0658 - accuracy: 0.9804\n",
            "Epoch 8/25\n",
            "1875/1875 [==============================] - 6s 3ms/step - loss: 0.0601 - accuracy: 0.9823\n",
            "Epoch 9/25\n",
            "1875/1875 [==============================] - 7s 4ms/step - loss: 0.0560 - accuracy: 0.9832\n",
            "Epoch 10/25\n",
            "1875/1875 [==============================] - 6s 3ms/step - loss: 0.0525 - accuracy: 0.9840\n",
            "Epoch 11/25\n",
            "1875/1875 [==============================] - 7s 4ms/step - loss: 0.0499 - accuracy: 0.9848\n",
            "Epoch 12/25\n",
            "1875/1875 [==============================] - 6s 3ms/step - loss: 0.0474 - accuracy: 0.9853\n",
            "Epoch 13/25\n",
            "1875/1875 [==============================] - 7s 4ms/step - loss: 0.0452 - accuracy: 0.9859\n",
            "Epoch 14/25\n",
            "1875/1875 [==============================] - 6s 3ms/step - loss: 0.0429 - accuracy: 0.9867\n",
            "Epoch 15/25\n",
            "1875/1875 [==============================] - 7s 4ms/step - loss: 0.0413 - accuracy: 0.9874\n",
            "Epoch 16/25\n",
            "1875/1875 [==============================] - 6s 3ms/step - loss: 0.0399 - accuracy: 0.9877\n",
            "Epoch 17/25\n",
            "1875/1875 [==============================] - 7s 4ms/step - loss: 0.0380 - accuracy: 0.9884\n",
            "Epoch 18/25\n",
            "1875/1875 [==============================] - 6s 3ms/step - loss: 0.0363 - accuracy: 0.9885\n",
            "Epoch 19/25\n",
            "1875/1875 [==============================] - 6s 3ms/step - loss: 0.0355 - accuracy: 0.9889\n",
            "Epoch 20/25\n",
            "1875/1875 [==============================] - 7s 4ms/step - loss: 0.0338 - accuracy: 0.9894\n",
            "Epoch 21/25\n",
            "1875/1875 [==============================] - 7s 4ms/step - loss: 0.0324 - accuracy: 0.9901\n",
            "Epoch 22/25\n",
            "1875/1875 [==============================] - 7s 4ms/step - loss: 0.0318 - accuracy: 0.9903\n",
            "Epoch 23/25\n",
            "1875/1875 [==============================] - 6s 3ms/step - loss: 0.0304 - accuracy: 0.9907\n",
            "Epoch 24/25\n",
            "1875/1875 [==============================] - 7s 4ms/step - loss: 0.0298 - accuracy: 0.9905\n",
            "Epoch 25/25\n",
            "1875/1875 [==============================] - 6s 3ms/step - loss: 0.0283 - accuracy: 0.9912\n"
          ]
        },
        {
          "output_type": "execute_result",
          "data": {
            "text/plain": [
              "<keras.callbacks.History at 0x7ff7fc5ddf70>"
            ]
          },
          "metadata": {},
          "execution_count": 6
        }
      ]
    },
    {
      "cell_type": "markdown",
      "source": [
        "# Test"
      ],
      "metadata": {
        "id": "tFg8HjSk0Ss7"
      }
    },
    {
      "cell_type": "code",
      "source": [
        "_, accuracy = model.evaluate(test_X, test_Y)\n",
        "print('Accuracy: ', accuracy)"
      ],
      "metadata": {
        "colab": {
          "base_uri": "https://localhost:8080/"
        },
        "id": "c-s8NgU30V0r",
        "outputId": "8110657e-b92b-4682-8f31-0a8e10772c13"
      },
      "execution_count": 7,
      "outputs": [
        {
          "output_type": "stream",
          "name": "stdout",
          "text": [
            "313/313 [==============================] - 1s 3ms/step - loss: 0.0404 - accuracy: 0.9860\n",
            "Accuracy:  0.9860000014305115\n"
          ]
        }
      ]
    }
  ]
}