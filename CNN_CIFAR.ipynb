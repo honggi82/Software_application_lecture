{
  "nbformat": 4,
  "nbformat_minor": 0,
  "metadata": {
    "colab": {
      "name": "CNN_CIFAR.ipynb",
      "provenance": [],
      "include_colab_link": true
    },
    "kernelspec": {
      "name": "python3",
      "display_name": "Python 3"
    },
    "accelerator": "GPU",
    "gpuClass": "standard"
  },
  "cells": [
    {
      "cell_type": "markdown",
      "metadata": {
        "id": "view-in-github",
        "colab_type": "text"
      },
      "source": [
        "<a href=\"https://colab.research.google.com/github/honggi82/Software_application_lecture/blob/main/CNN_CIFAR.ipynb\" target=\"_parent\"><img src=\"https://colab.research.google.com/assets/colab-badge.svg\" alt=\"Open In Colab\"/></a>"
      ]
    },
    {
      "cell_type": "markdown",
      "source": [
        "# 라이브러리 가져오기"
      ],
      "metadata": {
        "id": "iRTBmfnQ0o1b"
      }
    },
    {
      "cell_type": "code",
      "source": [
        "from keras.utils import np_utils\n",
        "from keras.datasets import cifar10\n",
        "from keras.models import Sequential\n",
        "from keras.layers import Conv2D, pooling, Flatten, Dense"
      ],
      "metadata": {
        "id": "WvIW0jHk0lbE"
      },
      "execution_count": 1,
      "outputs": []
    },
    {
      "cell_type": "markdown",
      "source": [
        "# Cifar10 데이터셋 불러오기"
      ],
      "metadata": {
        "id": "Pm1fi1cD0lTr"
      }
    },
    {
      "cell_type": "code",
      "source": [
        "(train_X, train_Y), (test_X, test_Y) = cifar10.load_data()\n",
        "print(train_X.shape, train_Y.shape, test_X.shape, test_Y.shape)"
      ],
      "metadata": {
        "colab": {
          "base_uri": "https://localhost:8080/"
        },
        "id": "S3QYxN_m0lKL",
        "outputId": "91ab0b52-0c67-476d-d4ba-57c4ae651b59"
      },
      "execution_count": 2,
      "outputs": [
        {
          "output_type": "stream",
          "name": "stdout",
          "text": [
            "(50000, 32, 32, 3) (50000, 1) (10000, 32, 32, 3) (10000, 1)\n"
          ]
        }
      ]
    },
    {
      "cell_type": "markdown",
      "source": [
        "# 데이터 정규화"
      ],
      "metadata": {
        "id": "l6Pl008A0lBc"
      }
    },
    {
      "cell_type": "code",
      "source": [
        "train_X = train_X.astype('float32')/255.0\n",
        "test_X = test_X.astype('float32')/255.0"
      ],
      "metadata": {
        "id": "BdaawGQg0k27"
      },
      "execution_count": 3,
      "outputs": []
    },
    {
      "cell_type": "markdown",
      "source": [
        "# One-Hot Encoding"
      ],
      "metadata": {
        "id": "PZ-jfF3s0kuL"
      }
    },
    {
      "cell_type": "code",
      "source": [
        "train_Y = np_utils.to_categorical(train_Y)\n",
        "test_Y = np_utils.to_categorical(test_Y) "
      ],
      "metadata": {
        "id": "mXXX1iSf0kkL"
      },
      "execution_count": 4,
      "outputs": []
    },
    {
      "cell_type": "markdown",
      "source": [
        "# CNN 모델 생성"
      ],
      "metadata": {
        "id": "Mq_HfSmG0kaU"
      }
    },
    {
      "cell_type": "code",
      "source": [
        "model = Sequential([\n",
        "Conv2D(32, (3,3), padding='same', strides=(1,1), activation='relu', input_shape=(32,32,3)),\n",
        "pooling.MaxPooling2D(pool_size=(2,2)),\n",
        "Conv2D(64, (3,3), padding='same', strides=(1,1), activation='relu'),\n",
        "pooling.MaxPooling2D(pool_size=(2,2)),\n",
        "Flatten(),\n",
        "Dense(10, activation='softmax')]) \n",
        "\n",
        "model.compile(loss='categorical_crossentropy', optimizer='Adam', metrics=['accuracy'])\n",
        "\n",
        "model.summary()"
      ],
      "metadata": {
        "colab": {
          "base_uri": "https://localhost:8080/"
        },
        "id": "kZZcz2YI1PxW",
        "outputId": "abeb653d-4f55-41c1-a886-df4ed12fe64c"
      },
      "execution_count": 5,
      "outputs": [
        {
          "output_type": "stream",
          "name": "stdout",
          "text": [
            "Model: \"sequential\"\n",
            "_________________________________________________________________\n",
            " Layer (type)                Output Shape              Param #   \n",
            "=================================================================\n",
            " conv2d (Conv2D)             (None, 32, 32, 32)        896       \n",
            "                                                                 \n",
            " max_pooling2d (MaxPooling2D  (None, 16, 16, 32)       0         \n",
            " )                                                               \n",
            "                                                                 \n",
            " conv2d_1 (Conv2D)           (None, 16, 16, 64)        18496     \n",
            "                                                                 \n",
            " max_pooling2d_1 (MaxPooling  (None, 8, 8, 64)         0         \n",
            " 2D)                                                             \n",
            "                                                                 \n",
            " flatten (Flatten)           (None, 4096)              0         \n",
            "                                                                 \n",
            " dense (Dense)               (None, 10)                40970     \n",
            "                                                                 \n",
            "=================================================================\n",
            "Total params: 60,362\n",
            "Trainable params: 60,362\n",
            "Non-trainable params: 0\n",
            "_________________________________________________________________\n"
          ]
        }
      ]
    },
    {
      "cell_type": "markdown",
      "source": [
        "# Training"
      ],
      "metadata": {
        "id": "Kmj3q_Wi1kOz"
      }
    },
    {
      "cell_type": "code",
      "source": [
        "model.fit(train_X, train_Y, batch_size = 8, epochs=25)"
      ],
      "metadata": {
        "colab": {
          "base_uri": "https://localhost:8080/"
        },
        "id": "1r0f_llT1mFD",
        "outputId": "0fea7bdd-33ed-4eb1-ac05-8423f1335e56"
      },
      "execution_count": 6,
      "outputs": [
        {
          "output_type": "stream",
          "name": "stdout",
          "text": [
            "Epoch 1/25\n",
            "6250/6250 [==============================] - 30s 3ms/step - loss: 1.3164 - accuracy: 0.5372\n",
            "Epoch 2/25\n",
            "6250/6250 [==============================] - 21s 3ms/step - loss: 0.9765 - accuracy: 0.6616\n",
            "Epoch 3/25\n",
            "6250/6250 [==============================] - 21s 3ms/step - loss: 0.8595 - accuracy: 0.7045\n",
            "Epoch 4/25\n",
            "6250/6250 [==============================] - 22s 3ms/step - loss: 0.7874 - accuracy: 0.7284\n",
            "Epoch 5/25\n",
            "6250/6250 [==============================] - 20s 3ms/step - loss: 0.7279 - accuracy: 0.7480\n",
            "Epoch 6/25\n",
            "6250/6250 [==============================] - 21s 3ms/step - loss: 0.6868 - accuracy: 0.7620\n",
            "Epoch 7/25\n",
            "6250/6250 [==============================] - 22s 3ms/step - loss: 0.6479 - accuracy: 0.7759\n",
            "Epoch 8/25\n",
            "6250/6250 [==============================] - 21s 3ms/step - loss: 0.6151 - accuracy: 0.7843\n",
            "Epoch 9/25\n",
            "6250/6250 [==============================] - 21s 3ms/step - loss: 0.5816 - accuracy: 0.7960\n",
            "Epoch 10/25\n",
            "6250/6250 [==============================] - 21s 3ms/step - loss: 0.5541 - accuracy: 0.8066\n",
            "Epoch 11/25\n",
            "6250/6250 [==============================] - 21s 3ms/step - loss: 0.5362 - accuracy: 0.8117\n",
            "Epoch 12/25\n",
            "6250/6250 [==============================] - 20s 3ms/step - loss: 0.5159 - accuracy: 0.8171\n",
            "Epoch 13/25\n",
            "6250/6250 [==============================] - 21s 3ms/step - loss: 0.4960 - accuracy: 0.8235\n",
            "Epoch 14/25\n",
            "6250/6250 [==============================] - 21s 3ms/step - loss: 0.4776 - accuracy: 0.8315\n",
            "Epoch 15/25\n",
            "6250/6250 [==============================] - 20s 3ms/step - loss: 0.4610 - accuracy: 0.8376\n",
            "Epoch 16/25\n",
            "6250/6250 [==============================] - 21s 3ms/step - loss: 0.4456 - accuracy: 0.8423\n",
            "Epoch 17/25\n",
            "6250/6250 [==============================] - 22s 3ms/step - loss: 0.4344 - accuracy: 0.8456\n",
            "Epoch 18/25\n",
            "6250/6250 [==============================] - 21s 3ms/step - loss: 0.4214 - accuracy: 0.8491\n",
            "Epoch 19/25\n",
            "6250/6250 [==============================] - 21s 3ms/step - loss: 0.4129 - accuracy: 0.8524\n",
            "Epoch 20/25\n",
            "6250/6250 [==============================] - 21s 3ms/step - loss: 0.3950 - accuracy: 0.8584\n",
            "Epoch 21/25\n",
            "6250/6250 [==============================] - 21s 3ms/step - loss: 0.3888 - accuracy: 0.8608\n",
            "Epoch 22/25\n",
            "6250/6250 [==============================] - 21s 3ms/step - loss: 0.3790 - accuracy: 0.8656\n",
            "Epoch 23/25\n",
            "6250/6250 [==============================] - 21s 3ms/step - loss: 0.3668 - accuracy: 0.8681\n",
            "Epoch 24/25\n",
            "6250/6250 [==============================] - 21s 3ms/step - loss: 0.3628 - accuracy: 0.8709\n",
            "Epoch 25/25\n",
            "6250/6250 [==============================] - 20s 3ms/step - loss: 0.3499 - accuracy: 0.8749\n"
          ]
        },
        {
          "output_type": "execute_result",
          "data": {
            "text/plain": [
              "<keras.callbacks.History at 0x7f513804e550>"
            ]
          },
          "metadata": {},
          "execution_count": 6
        }
      ]
    },
    {
      "cell_type": "markdown",
      "source": [
        "# Test"
      ],
      "metadata": {
        "id": "OSy9VC871n0b"
      }
    },
    {
      "cell_type": "code",
      "source": [
        "_, accuracy = model.evaluate(test_X, test_Y)\n",
        "print('Accuracy: ', accuracy)"
      ],
      "metadata": {
        "colab": {
          "base_uri": "https://localhost:8080/"
        },
        "id": "MSxOotmZ1qW7",
        "outputId": "48afd969-8fff-4a60-eab2-ff1ee25aedcc"
      },
      "execution_count": 7,
      "outputs": [
        {
          "output_type": "stream",
          "name": "stdout",
          "text": [
            "313/313 [==============================] - 1s 3ms/step - loss: 1.5939 - accuracy: 0.6709\n",
            "Accuracy:  0.6708999872207642\n"
          ]
        }
      ]
    }
  ]
}