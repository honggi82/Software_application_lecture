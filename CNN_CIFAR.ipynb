{
  "nbformat": 4,
  "nbformat_minor": 0,
  "metadata": {
    "colab": {
      "name": "CNN_CIFAR.ipynb",
      "provenance": [],
      "include_colab_link": true
    },
    "kernelspec": {
      "name": "python3",
      "display_name": "Python 3"
    },
    "accelerator": "GPU",
    "gpuClass": "standard"
  },
  "cells": [
    {
      "cell_type": "markdown",
      "metadata": {
        "id": "view-in-github",
        "colab_type": "text"
      },
      "source": [
        "<a href=\"https://colab.research.google.com/github/honggi82/Software_application_lecture/blob/main/CNN_CIFAR.ipynb\" target=\"_parent\"><img src=\"https://colab.research.google.com/assets/colab-badge.svg\" alt=\"Open In Colab\"/></a>"
      ]
    },
    {
      "cell_type": "markdown",
      "source": [
        "# 라이브러리 가져오기"
      ],
      "metadata": {
        "id": "iRTBmfnQ0o1b"
      }
    },
    {
      "cell_type": "code",
      "source": [
        "from keras.utils import np_utils\n",
        "from keras.datasets import cifar10\n",
        "from keras.models import Sequential\n",
        "from keras.layers import Conv2D, pooling, Flatten, Dense"
      ],
      "metadata": {
        "id": "WvIW0jHk0lbE"
      },
      "execution_count": 1,
      "outputs": []
    },
    {
      "cell_type": "markdown",
      "source": [
        "# Cifar10 데이터셋 불러오기"
      ],
      "metadata": {
        "id": "Pm1fi1cD0lTr"
      }
    },
    {
      "cell_type": "code",
      "source": [
        "(train_X, train_Y), (test_X, test_Y) = cifar10.load_data()\n",
        "print(train_X.shape, train_Y.shape, test_X.shape, test_Y.shape)"
      ],
      "metadata": {
        "colab": {
          "base_uri": "https://localhost:8080/"
        },
        "id": "S3QYxN_m0lKL",
        "outputId": "826ca050-9746-4d37-94b1-de603c266ef8"
      },
      "execution_count": 2,
      "outputs": [
        {
          "output_type": "stream",
          "name": "stdout",
          "text": [
            "Downloading data from https://www.cs.toronto.edu/~kriz/cifar-10-python.tar.gz\n",
            "170498071/170498071 [==============================] - 13s 0us/step\n",
            "(50000, 32, 32, 3) (50000, 1) (10000, 32, 32, 3) (10000, 1)\n"
          ]
        }
      ]
    },
    {
      "cell_type": "markdown",
      "source": [
        "# 데이터 정규화"
      ],
      "metadata": {
        "id": "l6Pl008A0lBc"
      }
    },
    {
      "cell_type": "code",
      "source": [
        "train_X = train_X.reshape(train_X.shape[0], 32,32,3).astype('float32')/255.0\n",
        "test_X = test_X.reshape(test_X.shape[0], 32,32,3).astype('float32')/255.0"
      ],
      "metadata": {
        "id": "BdaawGQg0k27"
      },
      "execution_count": 3,
      "outputs": []
    },
    {
      "cell_type": "markdown",
      "source": [
        "# One-Hot Encoding"
      ],
      "metadata": {
        "id": "PZ-jfF3s0kuL"
      }
    },
    {
      "cell_type": "code",
      "source": [
        "train_Y = np_utils.to_categorical(train_Y)\n",
        "test_Y = np_utils.to_categorical(test_Y) "
      ],
      "metadata": {
        "id": "mXXX1iSf0kkL"
      },
      "execution_count": 4,
      "outputs": []
    },
    {
      "cell_type": "markdown",
      "source": [
        "# CNN 모델 생성"
      ],
      "metadata": {
        "id": "Mq_HfSmG0kaU"
      }
    },
    {
      "cell_type": "code",
      "source": [
        "model = Sequential([\n",
        "Conv2D(32, (3,3), padding='same', strides=(1,1), activation='relu', input_shape=(32,32,3)),\n",
        "pooling.MaxPooling2D(pool_size=(2,2)),\n",
        "Conv2D(64, (3,3), padding='same', strides=(1,1), activation='relu'),\n",
        "pooling.MaxPooling2D(pool_size=(2,2)),\n",
        "Flatten(),\n",
        "Dense(10, activation='softmax')]) \n",
        "\n",
        "model.compile(loss='categorical_crossentropy', optimizer='sgd', metrics=['accuracy'])\n",
        "\n",
        "model.summary()"
      ],
      "metadata": {
        "colab": {
          "base_uri": "https://localhost:8080/"
        },
        "id": "kZZcz2YI1PxW",
        "outputId": "8c30ada9-33f2-4e33-b07b-2e90c463590d"
      },
      "execution_count": 5,
      "outputs": [
        {
          "output_type": "stream",
          "name": "stdout",
          "text": [
            "Model: \"sequential\"\n",
            "_________________________________________________________________\n",
            " Layer (type)                Output Shape              Param #   \n",
            "=================================================================\n",
            " conv2d (Conv2D)             (None, 32, 32, 32)        896       \n",
            "                                                                 \n",
            " max_pooling2d (MaxPooling2D  (None, 16, 16, 32)       0         \n",
            " )                                                               \n",
            "                                                                 \n",
            " conv2d_1 (Conv2D)           (None, 16, 16, 64)        18496     \n",
            "                                                                 \n",
            " max_pooling2d_1 (MaxPooling  (None, 8, 8, 64)         0         \n",
            " 2D)                                                             \n",
            "                                                                 \n",
            " flatten (Flatten)           (None, 4096)              0         \n",
            "                                                                 \n",
            " dense (Dense)               (None, 10)                40970     \n",
            "                                                                 \n",
            "=================================================================\n",
            "Total params: 60,362\n",
            "Trainable params: 60,362\n",
            "Non-trainable params: 0\n",
            "_________________________________________________________________\n"
          ]
        }
      ]
    },
    {
      "cell_type": "markdown",
      "source": [
        "# Training"
      ],
      "metadata": {
        "id": "Kmj3q_Wi1kOz"
      }
    },
    {
      "cell_type": "code",
      "source": [
        "model.fit(train_X, train_Y, epochs=25)"
      ],
      "metadata": {
        "colab": {
          "base_uri": "https://localhost:8080/"
        },
        "id": "1r0f_llT1mFD",
        "outputId": "8ae2c7e5-1de4-41df-9f11-c16125026ee2"
      },
      "execution_count": 6,
      "outputs": [
        {
          "output_type": "stream",
          "name": "stdout",
          "text": [
            "Epoch 1/25\n",
            "1563/1563 [==============================] - 17s 4ms/step - loss: 1.9553 - accuracy: 0.3030\n",
            "Epoch 2/25\n",
            "1563/1563 [==============================] - 6s 4ms/step - loss: 1.5973 - accuracy: 0.4358\n",
            "Epoch 3/25\n",
            "1563/1563 [==============================] - 6s 4ms/step - loss: 1.4428 - accuracy: 0.4907\n",
            "Epoch 4/25\n",
            "1563/1563 [==============================] - 6s 4ms/step - loss: 1.3295 - accuracy: 0.5340\n",
            "Epoch 5/25\n",
            "1563/1563 [==============================] - 6s 4ms/step - loss: 1.2372 - accuracy: 0.5694\n",
            "Epoch 6/25\n",
            "1563/1563 [==============================] - 6s 4ms/step - loss: 1.1631 - accuracy: 0.5956\n",
            "Epoch 7/25\n",
            "1563/1563 [==============================] - 6s 4ms/step - loss: 1.1068 - accuracy: 0.6168\n",
            "Epoch 8/25\n",
            "1563/1563 [==============================] - 7s 4ms/step - loss: 1.0609 - accuracy: 0.6334\n",
            "Epoch 9/25\n",
            "1563/1563 [==============================] - 6s 4ms/step - loss: 1.0225 - accuracy: 0.6486\n",
            "Epoch 10/25\n",
            "1563/1563 [==============================] - 7s 5ms/step - loss: 0.9887 - accuracy: 0.6606\n",
            "Epoch 11/25\n",
            "1563/1563 [==============================] - 6s 4ms/step - loss: 0.9584 - accuracy: 0.6709\n",
            "Epoch 12/25\n",
            "1563/1563 [==============================] - 6s 4ms/step - loss: 0.9324 - accuracy: 0.6804\n",
            "Epoch 13/25\n",
            "1563/1563 [==============================] - 6s 4ms/step - loss: 0.9083 - accuracy: 0.6873\n",
            "Epoch 14/25\n",
            "1563/1563 [==============================] - 6s 4ms/step - loss: 0.8878 - accuracy: 0.6953\n",
            "Epoch 15/25\n",
            "1563/1563 [==============================] - 6s 4ms/step - loss: 0.8667 - accuracy: 0.7022\n",
            "Epoch 16/25\n",
            "1563/1563 [==============================] - 7s 4ms/step - loss: 0.8482 - accuracy: 0.7075\n",
            "Epoch 17/25\n",
            "1563/1563 [==============================] - 6s 4ms/step - loss: 0.8305 - accuracy: 0.7153\n",
            "Epoch 18/25\n",
            "1563/1563 [==============================] - 7s 4ms/step - loss: 0.8139 - accuracy: 0.7210\n",
            "Epoch 19/25\n",
            "1563/1563 [==============================] - 6s 4ms/step - loss: 0.7964 - accuracy: 0.7270\n",
            "Epoch 20/25\n",
            "1563/1563 [==============================] - 6s 4ms/step - loss: 0.7815 - accuracy: 0.7319\n",
            "Epoch 21/25\n",
            "1563/1563 [==============================] - 6s 4ms/step - loss: 0.7667 - accuracy: 0.7386\n",
            "Epoch 22/25\n",
            "1563/1563 [==============================] - 7s 4ms/step - loss: 0.7520 - accuracy: 0.7424\n",
            "Epoch 23/25\n",
            "1563/1563 [==============================] - 6s 4ms/step - loss: 0.7392 - accuracy: 0.7466\n",
            "Epoch 24/25\n",
            "1563/1563 [==============================] - 6s 4ms/step - loss: 0.7263 - accuracy: 0.7523\n",
            "Epoch 25/25\n",
            "1563/1563 [==============================] - 6s 4ms/step - loss: 0.7118 - accuracy: 0.7569\n"
          ]
        },
        {
          "output_type": "execute_result",
          "data": {
            "text/plain": [
              "<keras.callbacks.History at 0x7fade02b4e20>"
            ]
          },
          "metadata": {},
          "execution_count": 6
        }
      ]
    },
    {
      "cell_type": "markdown",
      "source": [
        "# Test"
      ],
      "metadata": {
        "id": "OSy9VC871n0b"
      }
    },
    {
      "cell_type": "code",
      "source": [
        "_, accuracy = model.evaluate(test_X, test_Y)\n",
        "print('Accuracy: ', accuracy)"
      ],
      "metadata": {
        "colab": {
          "base_uri": "https://localhost:8080/"
        },
        "id": "MSxOotmZ1qW7",
        "outputId": "acd3e4fc-da5f-40bd-f3d7-9c1ca78465d4"
      },
      "execution_count": 7,
      "outputs": [
        {
          "output_type": "stream",
          "name": "stdout",
          "text": [
            "313/313 [==============================] - 1s 3ms/step - loss: 0.9747 - accuracy: 0.6791\n",
            "Accuracy:  0.679099977016449\n"
          ]
        }
      ]
    }
  ]
}