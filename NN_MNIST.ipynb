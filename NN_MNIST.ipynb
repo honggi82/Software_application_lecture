{
  "nbformat": 4,
  "nbformat_minor": 0,
  "metadata": {
    "colab": {
      "provenance": [],
      "include_colab_link": true
    },
    "kernelspec": {
      "name": "python3",
      "display_name": "Python 3"
    },
    "language_info": {
      "name": "python"
    },
    "accelerator": "TPU",
    "gpuClass": "standard"
  },
  "cells": [
    {
      "cell_type": "markdown",
      "metadata": {
        "id": "view-in-github",
        "colab_type": "text"
      },
      "source": [
        "<a href=\"https://colab.research.google.com/github/honggi82/Software_application_lecture/blob/main/NN_MNIST.ipynb\" target=\"_parent\"><img src=\"https://colab.research.google.com/assets/colab-badge.svg\" alt=\"Open In Colab\"/></a>"
      ]
    },
    {
      "cell_type": "markdown",
      "source": [
        "# 라이브러리 가져오기"
      ],
      "metadata": {
        "id": "akh5v-vHctX9"
      }
    },
    {
      "cell_type": "code",
      "source": [
        "import tensorflow as tf\n",
        "from keras.models import Sequential\n",
        "from keras.layers import Dense, Flatten\n",
        "from keras.optimizers import Adam\n",
        "import matplotlib.pyplot as plt"
      ],
      "metadata": {
        "id": "xyyhGih1cu3z"
      },
      "execution_count": 1,
      "outputs": []
    },
    {
      "cell_type": "markdown",
      "source": [
        "# MNIST 데이터셋 불러오기"
      ],
      "metadata": {
        "id": "M_Sc884EcxBi"
      }
    },
    {
      "cell_type": "code",
      "source": [
        "(train_X, train_Y), (test_X, test_Y) = tf.keras.datasets.mnist.load_data()\n",
        "print(len(train_X), len(test_X))"
      ],
      "metadata": {
        "colab": {
          "base_uri": "https://localhost:8080/"
        },
        "id": "fh2rmIvyc0d3",
        "outputId": "d8fe8204-b212-4d82-91a6-d90eeba194a2"
      },
      "execution_count": 2,
      "outputs": [
        {
          "output_type": "stream",
          "name": "stdout",
          "text": [
            "Downloading data from https://storage.googleapis.com/tensorflow/tf-keras-datasets/mnist.npz\n",
            "11490434/11490434 [==============================] - 0s 0us/step\n",
            "60000 10000\n"
          ]
        }
      ]
    },
    {
      "cell_type": "markdown",
      "source": [
        "# 0번째 데이터 그려보기"
      ],
      "metadata": {
        "id": "mhFwwkVfc_Mj"
      }
    },
    {
      "cell_type": "code",
      "source": [
        "plt.imshow(train_X[0], cmap='gray')\n",
        "plt.colorbar()\n",
        "print(train_Y[0])"
      ],
      "metadata": {
        "colab": {
          "base_uri": "https://localhost:8080/",
          "height": 448
        },
        "id": "tmFaYKlydBhM",
        "outputId": "dd7b0290-0688-4d70-a047-233e63ff319e"
      },
      "execution_count": 3,
      "outputs": [
        {
          "output_type": "stream",
          "name": "stdout",
          "text": [
            "5\n"
          ]
        },
        {
          "output_type": "display_data",
          "data": {
            "text/plain": [
              "<Figure size 640x480 with 2 Axes>"
            ],
            "image/png": "[encoded data removed]"
          },
          "metadata": {}
        }
      ]
    },
    {
      "cell_type": "markdown",
      "source": [
        "# 데이터 정규화"
      ],
      "metadata": {
        "id": "Jcmu4wMNdEOA"
      }
    },
    {
      "cell_type": "code",
      "source": [
        "train_X = train_X / 255.0\n",
        "test_X = test_X / 255.0"
      ],
      "metadata": {
        "id": "X67h3_G1dGnR"
      },
      "execution_count": 4,
      "outputs": []
    },
    {
      "cell_type": "markdown",
      "source": [
        "# Neural network 모델 생성"
      ],
      "metadata": {
        "id": "GyREstfLdKFG"
      }
    },
    {
      "cell_type": "code",
      "source": [
        "model = Sequential([\n",
        "    Flatten(input_shape=(28,28)),\n",
        "    Dense(units=128, activation='relu'),\n",
        "    Dense(units=10, activation='softmax')])\n",
        "model.compile(optimizer=Adam(), \n",
        "              loss='sparse_categorical_crossentropy', \n",
        "              metrics=['accuracy'])\n",
        "\n",
        "model.summary()"
      ],
      "metadata": {
        "colab": {
          "base_uri": "https://localhost:8080/"
        },
        "id": "_0Q6AepWdXXT",
        "outputId": "83c0258c-8577-4b5c-a77c-baad7c7f5c5c"
      },
      "execution_count": 5,
      "outputs": [
        {
          "output_type": "stream",
          "name": "stdout",
          "text": [
            "Model: \"sequential\"\n",
            "_________________________________________________________________\n",
            " Layer (type)                Output Shape              Param #   \n",
            "=================================================================\n",
            " flatten (Flatten)           (None, 784)               0         \n",
            "                                                                 \n",
            " dense (Dense)               (None, 128)               100480    \n",
            "                                                                 \n",
            " dense_1 (Dense)             (None, 10)                1290      \n",
            "                                                                 \n",
            "=================================================================\n",
            "Total params: 101,770\n",
            "Trainable params: 101,770\n",
            "Non-trainable params: 0\n",
            "_________________________________________________________________\n"
          ]
        }
      ]
    },
    {
      "cell_type": "markdown",
      "source": [
        "# 모델 학습"
      ],
      "metadata": {
        "id": "XRcyFuSsdYTI"
      }
    },
    {
      "cell_type": "code",
      "source": [
        "history = model.fit(train_X, train_Y, epochs=25)"
      ],
      "metadata": {
        "colab": {
          "base_uri": "https://localhost:8080/"
        },
        "id": "KpB38cgudeLg",
        "outputId": "1e2a8bb0-4aab-4423-f127-66a2afbb75d0"
      },
      "execution_count": 6,
      "outputs": [
        {
          "output_type": "stream",
          "name": "stdout",
          "text": [
            "Epoch 1/25\n",
            "1875/1875 [==============================] - 20s 10ms/step - loss: 0.2618 - accuracy: 0.9254\n",
            "Epoch 2/25\n",
            "1875/1875 [==============================] - 6s 3ms/step - loss: 0.1128 - accuracy: 0.9662\n",
            "Epoch 3/25\n",
            "1875/1875 [==============================] - 7s 4ms/step - loss: 0.0772 - accuracy: 0.9764\n",
            "Epoch 4/25\n",
            "1875/1875 [==============================] - 6s 3ms/step - loss: 0.0572 - accuracy: 0.9827\n",
            "Epoch 5/25\n",
            "1875/1875 [==============================] - 7s 4ms/step - loss: 0.0441 - accuracy: 0.9860\n",
            "Epoch 6/25\n",
            "1875/1875 [==============================] - 5s 3ms/step - loss: 0.0345 - accuracy: 0.9891\n",
            "Epoch 7/25\n",
            "1875/1875 [==============================] - 6s 3ms/step - loss: 0.0274 - accuracy: 0.9912\n",
            "Epoch 8/25\n",
            "1875/1875 [==============================] - 7s 3ms/step - loss: 0.0221 - accuracy: 0.9928\n",
            "Epoch 9/25\n",
            "1875/1875 [==============================] - 6s 3ms/step - loss: 0.0185 - accuracy: 0.9946\n",
            "Epoch 10/25\n",
            "1875/1875 [==============================] - 7s 4ms/step - loss: 0.0147 - accuracy: 0.9954\n",
            "Epoch 11/25\n",
            "1875/1875 [==============================] - 5s 3ms/step - loss: 0.0139 - accuracy: 0.9956\n",
            "Epoch 12/25\n",
            "1875/1875 [==============================] - 7s 4ms/step - loss: 0.0106 - accuracy: 0.9968\n",
            "Epoch 13/25\n",
            "1875/1875 [==============================] - 6s 3ms/step - loss: 0.0093 - accuracy: 0.9969\n",
            "Epoch 14/25\n",
            "1875/1875 [==============================] - 6s 3ms/step - loss: 0.0087 - accuracy: 0.9974\n",
            "Epoch 15/25\n",
            "1875/1875 [==============================] - 7s 4ms/step - loss: 0.0072 - accuracy: 0.9978\n",
            "Epoch 16/25\n",
            "1875/1875 [==============================] - 9s 5ms/step - loss: 0.0063 - accuracy: 0.9983\n",
            "Epoch 17/25\n",
            "1875/1875 [==============================] - 8s 4ms/step - loss: 0.0074 - accuracy: 0.9976\n",
            "Epoch 18/25\n",
            "1875/1875 [==============================] - 6s 3ms/step - loss: 0.0065 - accuracy: 0.9977\n",
            "Epoch 19/25\n",
            "1875/1875 [==============================] - 7s 4ms/step - loss: 0.0048 - accuracy: 0.9987\n",
            "Epoch 20/25\n",
            "1875/1875 [==============================] - 6s 3ms/step - loss: 0.0047 - accuracy: 0.9986\n",
            "Epoch 21/25\n",
            "1875/1875 [==============================] - 6s 3ms/step - loss: 0.0059 - accuracy: 0.9983\n",
            "Epoch 22/25\n",
            "1875/1875 [==============================] - 6s 3ms/step - loss: 0.0041 - accuracy: 0.9987\n",
            "Epoch 23/25\n",
            "1875/1875 [==============================] - 5s 3ms/step - loss: 0.0056 - accuracy: 0.9981\n",
            "Epoch 24/25\n",
            "1875/1875 [==============================] - 7s 4ms/step - loss: 0.0034 - accuracy: 0.9989\n",
            "Epoch 25/25\n",
            "1875/1875 [==============================] - 5s 3ms/step - loss: 0.0023 - accuracy: 0.9995\n"
          ]
        }
      ]
    },
    {
      "cell_type": "markdown",
      "source": [
        "# 학습 결과 시각화"
      ],
      "metadata": {
        "id": "xC5qGIKzdh65"
      }
    },
    {
      "cell_type": "code",
      "source": [
        "plt.figure(figsize=(12, 4))\n",
        "plt.subplot(1, 2, 1)\n",
        "plt.plot(history.history['loss'], 'b-', label='loss')\n",
        "plt.xlabel('Epoch')\n",
        "plt.legend()\n",
        "\n",
        "plt.subplot(1, 2, 2)\n",
        "plt.plot(history.history['accuracy'], 'g-', label='accuracy')\n",
        "plt.xlabel('Epoch')\n",
        "plt.ylim(0.7, 1)\n",
        "plt.legend()"
      ],
      "metadata": {
        "colab": {
          "base_uri": "https://localhost:8080/",
          "height": 411
        },
        "id": "rXbxK7emdiZZ",
        "outputId": "c5d37412-5db7-4aed-b859-82f1ac83b8d9"
      },
      "execution_count": 7,
      "outputs": [
        {
          "output_type": "execute_result",
          "data": {
            "text/plain": [
              "<matplotlib.legend.Legend at 0x7fdab29527c0>"
            ]
          },
          "metadata": {},
          "execution_count": 7
        },
        {
          "output_type": "display_data",
          "data": {
            "text/plain": [
              "<Figure size 1200x400 with 2 Axes>"
            ],
            "image/png": "[encoded data removed]"
          },
          "metadata": {}
        }
      ]
    },
    {
      "cell_type": "markdown",
      "source": [
        "# 모델 평가"
      ],
      "metadata": {
        "id": "1NlZAKakdvXA"
      }
    },
    {
      "cell_type": "code",
      "metadata": {
        "id": "F39UJKMQGQJ9",
        "colab": {
          "base_uri": "https://localhost:8080/"
        },
        "outputId": "ca744bc2-91b4-43c1-c973-8a55b05c2f01"
      },
      "source": [
        "model.evaluate(test_X, test_Y)"
      ],
      "execution_count": 8,
      "outputs": [
        {
          "output_type": "stream",
          "name": "stdout",
          "text": [
            "313/313 [==============================] - 1s 3ms/step - loss: 0.1125 - accuracy: 0.9808\n"
          ]
        },
        {
          "output_type": "execute_result",
          "data": {
            "text/plain": [
              "[0.11247609555721283, 0.9807999730110168]"
            ]
          },
          "metadata": {},
          "execution_count": 8
        }
      ]
    }
  ]
}